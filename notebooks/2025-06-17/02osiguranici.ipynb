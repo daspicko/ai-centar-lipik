{
 "cells": [
  {
   "cell_type": "markdown",
   "id": "bfb20e28-82be-4864-8279-f5636bcc8fe6",
   "metadata": {},
   "source": [
    "# Analiza osiguranika"
   ]
  },
  {
   "cell_type": "code",
   "execution_count": 1,
   "id": "f10fcf18-b6c3-4011-8e24-6ac692dad715",
   "metadata": {},
   "outputs": [],
   "source": [
    "import pandas\n",
    "osiguranici = pandas.read_csv(\"osiguranici.csv\")"
   ]
  },
  {
   "cell_type": "code",
   "execution_count": 2,
   "id": "1e514b2d-def4-4630-8a99-aabf22cce933",
   "metadata": {},
   "outputs": [
    {
     "data": {
      "text/html": [
       "<div>\n",
       "<style scoped>\n",
       "    .dataframe tbody tr th:only-of-type {\n",
       "        vertical-align: middle;\n",
       "    }\n",
       "\n",
       "    .dataframe tbody tr th {\n",
       "        vertical-align: top;\n",
       "    }\n",
       "\n",
       "    .dataframe thead th {\n",
       "        text-align: right;\n",
       "    }\n",
       "</style>\n",
       "<table border=\"1\" class=\"dataframe\">\n",
       "  <thead>\n",
       "    <tr style=\"text-align: right;\">\n",
       "      <th></th>\n",
       "      <th>City</th>\n",
       "      <th>Gender</th>\n",
       "      <th>Age</th>\n",
       "      <th>Income</th>\n",
       "      <th>Illness</th>\n",
       "    </tr>\n",
       "  </thead>\n",
       "  <tbody>\n",
       "    <tr>\n",
       "      <th>0</th>\n",
       "      <td>Dallas</td>\n",
       "      <td>Male</td>\n",
       "      <td>41</td>\n",
       "      <td>40367.0</td>\n",
       "      <td>No</td>\n",
       "    </tr>\n",
       "    <tr>\n",
       "      <th>1</th>\n",
       "      <td>Dallas</td>\n",
       "      <td>Male</td>\n",
       "      <td>54</td>\n",
       "      <td>45084.0</td>\n",
       "      <td>No</td>\n",
       "    </tr>\n",
       "    <tr>\n",
       "      <th>2</th>\n",
       "      <td>Dallas</td>\n",
       "      <td>Male</td>\n",
       "      <td>42</td>\n",
       "      <td>52483.0</td>\n",
       "      <td>No</td>\n",
       "    </tr>\n",
       "    <tr>\n",
       "      <th>3</th>\n",
       "      <td>Dallas</td>\n",
       "      <td>Male</td>\n",
       "      <td>40</td>\n",
       "      <td>40941.0</td>\n",
       "      <td>No</td>\n",
       "    </tr>\n",
       "    <tr>\n",
       "      <th>4</th>\n",
       "      <td>Dallas</td>\n",
       "      <td>Male</td>\n",
       "      <td>46</td>\n",
       "      <td>50289.0</td>\n",
       "      <td>No</td>\n",
       "    </tr>\n",
       "  </tbody>\n",
       "</table>\n",
       "</div>"
      ],
      "text/plain": [
       "     City Gender  Age   Income Illness\n",
       "0  Dallas   Male   41  40367.0      No\n",
       "1  Dallas   Male   54  45084.0      No\n",
       "2  Dallas   Male   42  52483.0      No\n",
       "3  Dallas   Male   40  40941.0      No\n",
       "4  Dallas   Male   46  50289.0      No"
      ]
     },
     "execution_count": 2,
     "metadata": {},
     "output_type": "execute_result"
    }
   ],
   "source": [
    "osiguranici.head()"
   ]
  },
  {
   "cell_type": "code",
   "execution_count": 3,
   "id": "27cf4de7-cac8-4691-9c65-bdf3f0f9ef36",
   "metadata": {},
   "outputs": [
    {
     "name": "stdout",
     "output_type": "stream",
     "text": [
      "<class 'pandas.core.frame.DataFrame'>\n",
      "RangeIndex: 150000 entries, 0 to 149999\n",
      "Data columns (total 5 columns):\n",
      " #   Column   Non-Null Count   Dtype  \n",
      "---  ------   --------------   -----  \n",
      " 0   City     150000 non-null  object \n",
      " 1   Gender   150000 non-null  object \n",
      " 2   Age      150000 non-null  int64  \n",
      " 3   Income   150000 non-null  float64\n",
      " 4   Illness  150000 non-null  object \n",
      "dtypes: float64(1), int64(1), object(3)\n",
      "memory usage: 5.7+ MB\n"
     ]
    }
   ],
   "source": [
    "osiguranici.info()"
   ]
  },
  {
   "cell_type": "code",
   "execution_count": 4,
   "id": "f782aeea-2732-4f85-bad6-8d2908500f39",
   "metadata": {},
   "outputs": [
    {
     "data": {
      "text/html": [
       "<div>\n",
       "<style scoped>\n",
       "    .dataframe tbody tr th:only-of-type {\n",
       "        vertical-align: middle;\n",
       "    }\n",
       "\n",
       "    .dataframe tbody tr th {\n",
       "        vertical-align: top;\n",
       "    }\n",
       "\n",
       "    .dataframe thead th {\n",
       "        text-align: right;\n",
       "    }\n",
       "</style>\n",
       "<table border=\"1\" class=\"dataframe\">\n",
       "  <thead>\n",
       "    <tr style=\"text-align: right;\">\n",
       "      <th></th>\n",
       "      <th>Age</th>\n",
       "      <th>Income</th>\n",
       "    </tr>\n",
       "  </thead>\n",
       "  <tbody>\n",
       "    <tr>\n",
       "      <th>count</th>\n",
       "      <td>150000.000000</td>\n",
       "      <td>150000.000000</td>\n",
       "    </tr>\n",
       "    <tr>\n",
       "      <th>mean</th>\n",
       "      <td>44.950200</td>\n",
       "      <td>91252.798273</td>\n",
       "    </tr>\n",
       "    <tr>\n",
       "      <th>std</th>\n",
       "      <td>11.572486</td>\n",
       "      <td>24989.500948</td>\n",
       "    </tr>\n",
       "    <tr>\n",
       "      <th>min</th>\n",
       "      <td>25.000000</td>\n",
       "      <td>-654.000000</td>\n",
       "    </tr>\n",
       "    <tr>\n",
       "      <th>25%</th>\n",
       "      <td>35.000000</td>\n",
       "      <td>80867.750000</td>\n",
       "    </tr>\n",
       "    <tr>\n",
       "      <th>50%</th>\n",
       "      <td>45.000000</td>\n",
       "      <td>93655.000000</td>\n",
       "    </tr>\n",
       "    <tr>\n",
       "      <th>75%</th>\n",
       "      <td>55.000000</td>\n",
       "      <td>104519.000000</td>\n",
       "    </tr>\n",
       "    <tr>\n",
       "      <th>max</th>\n",
       "      <td>65.000000</td>\n",
       "      <td>177157.000000</td>\n",
       "    </tr>\n",
       "  </tbody>\n",
       "</table>\n",
       "</div>"
      ],
      "text/plain": [
       "                 Age         Income\n",
       "count  150000.000000  150000.000000\n",
       "mean       44.950200   91252.798273\n",
       "std        11.572486   24989.500948\n",
       "min        25.000000    -654.000000\n",
       "25%        35.000000   80867.750000\n",
       "50%        45.000000   93655.000000\n",
       "75%        55.000000  104519.000000\n",
       "max        65.000000  177157.000000"
      ]
     },
     "execution_count": 4,
     "metadata": {},
     "output_type": "execute_result"
    }
   ],
   "source": [
    "osiguranici.describe()"
   ]
  },
  {
   "cell_type": "code",
   "execution_count": 5,
   "id": "13879e20-4004-4d2b-ada0-1c4f9b74f8c9",
   "metadata": {},
   "outputs": [
    {
     "data": {
      "text/plain": [
       "count     150000\n",
       "unique         2\n",
       "top           No\n",
       "freq      137861\n",
       "Name: Illness, dtype: object"
      ]
     },
     "execution_count": 5,
     "metadata": {},
     "output_type": "execute_result"
    }
   ],
   "source": [
    "osiguranici.Illness.describe()"
   ]
  },
  {
   "cell_type": "code",
   "execution_count": 6,
   "id": "7e21b5c5-818e-40e5-b500-7004ded5fdcb",
   "metadata": {},
   "outputs": [
    {
     "data": {
      "text/plain": [
       "Illness\n",
       "No     137861\n",
       "Yes     12139\n",
       "Name: count, dtype: int64"
      ]
     },
     "execution_count": 6,
     "metadata": {},
     "output_type": "execute_result"
    }
   ],
   "source": [
    "osiguranici.Illness.value_counts()"
   ]
  },
  {
   "cell_type": "code",
   "execution_count": 7,
   "id": "d2c0b1ba-8ba5-40c4-9bd8-62f605189123",
   "metadata": {},
   "outputs": [],
   "source": [
    "osiguranici_po_bolesti = osiguranici.groupby([\"Illness\"])\n",
    "osiguranici_po_GB = osiguranici.groupby([\"Gender\", \"Illness\"])"
   ]
  },
  {
   "cell_type": "code",
   "execution_count": 8,
   "id": "8e3f00ea-e621-46c6-889d-559edfa1010b",
   "metadata": {},
   "outputs": [
    {
     "data": {
      "text/plain": [
       "Gender  Illness\n",
       "Female  No         60869\n",
       "        Yes         5331\n",
       "Male    No         76992\n",
       "        Yes         6808\n",
       "Name: count, dtype: int64"
      ]
     },
     "execution_count": 8,
     "metadata": {},
     "output_type": "execute_result"
    }
   ],
   "source": [
    "osiguranici_po_GB.Illness.value_counts()"
   ]
  },
  {
   "cell_type": "code",
   "execution_count": 9,
   "id": "7b025870-625e-451b-8660-7c649b9e6d2a",
   "metadata": {},
   "outputs": [
    {
     "data": {
      "text/plain": [
       "Age\n",
       "26    3918\n",
       "64    3879\n",
       "43    3862\n",
       "41    3862\n",
       "54    3838\n",
       "29    3805\n",
       "28    3798\n",
       "27    3790\n",
       "63    3784\n",
       "44    3782\n",
       "36    3780\n",
       "59    3775\n",
       "47    3773\n",
       "37    3771\n",
       "33    3769\n",
       "58    3762\n",
       "49    3762\n",
       "42    3760\n",
       "32    3759\n",
       "52    3753\n",
       "31    3749\n",
       "48    3743\n",
       "40    3740\n",
       "61    3737\n",
       "38    3734\n",
       "57    3732\n",
       "30    3731\n",
       "51    3729\n",
       "53    3724\n",
       "34    3710\n",
       "46    3707\n",
       "50    3692\n",
       "55    3687\n",
       "62    3684\n",
       "39    3675\n",
       "45    3670\n",
       "35    3658\n",
       "56    3602\n",
       "60    3582\n",
       "25    1868\n",
       "65    1864\n",
       "Name: count, dtype: int64"
      ]
     },
     "execution_count": 9,
     "metadata": {},
     "output_type": "execute_result"
    }
   ],
   "source": [
    "osiguranici.Age.value_counts()"
   ]
  },
  {
   "cell_type": "code",
   "execution_count": 10,
   "id": "440cb842-b0eb-4291-bff7-2ed408eaeb80",
   "metadata": {
    "scrolled": true
   },
   "outputs": [
    {
     "data": {
      "text/html": [
       "<div>\n",
       "<style scoped>\n",
       "    .dataframe tbody tr th:only-of-type {\n",
       "        vertical-align: middle;\n",
       "    }\n",
       "\n",
       "    .dataframe tbody tr th {\n",
       "        vertical-align: top;\n",
       "    }\n",
       "\n",
       "    .dataframe thead th {\n",
       "        text-align: right;\n",
       "    }\n",
       "</style>\n",
       "<table border=\"1\" class=\"dataframe\">\n",
       "  <thead>\n",
       "    <tr style=\"text-align: right;\">\n",
       "      <th></th>\n",
       "      <th>count</th>\n",
       "    </tr>\n",
       "    <tr>\n",
       "      <th>Illness</th>\n",
       "      <th></th>\n",
       "    </tr>\n",
       "  </thead>\n",
       "  <tbody>\n",
       "    <tr>\n",
       "      <th>No</th>\n",
       "      <td>137861</td>\n",
       "    </tr>\n",
       "    <tr>\n",
       "      <th>Yes</th>\n",
       "      <td>12139</td>\n",
       "    </tr>\n",
       "  </tbody>\n",
       "</table>\n",
       "</div>"
      ],
      "text/plain": [
       "          count\n",
       "Illness        \n",
       "No       137861\n",
       "Yes       12139"
      ]
     },
     "execution_count": 10,
     "metadata": {},
     "output_type": "execute_result"
    }
   ],
   "source": [
    "osiguranici_po_bolesti[\"Illness\"].agg([\"count\"])"
   ]
  },
  {
   "cell_type": "code",
   "execution_count": 11,
   "id": "930079fe-eca7-4851-aa5e-0f8caddeff4e",
   "metadata": {
    "scrolled": true
   },
   "outputs": [
    {
     "data": {
      "text/html": [
       "<div>\n",
       "<style scoped>\n",
       "    .dataframe tbody tr th:only-of-type {\n",
       "        vertical-align: middle;\n",
       "    }\n",
       "\n",
       "    .dataframe tbody tr th {\n",
       "        vertical-align: top;\n",
       "    }\n",
       "\n",
       "    .dataframe thead th {\n",
       "        text-align: right;\n",
       "    }\n",
       "</style>\n",
       "<table border=\"1\" class=\"dataframe\">\n",
       "  <thead>\n",
       "    <tr style=\"text-align: right;\">\n",
       "      <th></th>\n",
       "      <th></th>\n",
       "      <th>count</th>\n",
       "    </tr>\n",
       "    <tr>\n",
       "      <th>Gender</th>\n",
       "      <th>Illness</th>\n",
       "      <th></th>\n",
       "    </tr>\n",
       "  </thead>\n",
       "  <tbody>\n",
       "    <tr>\n",
       "      <th rowspan=\"2\" valign=\"top\">Female</th>\n",
       "      <th>No</th>\n",
       "      <td>60869</td>\n",
       "    </tr>\n",
       "    <tr>\n",
       "      <th>Yes</th>\n",
       "      <td>5331</td>\n",
       "    </tr>\n",
       "    <tr>\n",
       "      <th rowspan=\"2\" valign=\"top\">Male</th>\n",
       "      <th>No</th>\n",
       "      <td>76992</td>\n",
       "    </tr>\n",
       "    <tr>\n",
       "      <th>Yes</th>\n",
       "      <td>6808</td>\n",
       "    </tr>\n",
       "  </tbody>\n",
       "</table>\n",
       "</div>"
      ],
      "text/plain": [
       "                count\n",
       "Gender Illness       \n",
       "Female No       60869\n",
       "       Yes       5331\n",
       "Male   No       76992\n",
       "       Yes       6808"
      ]
     },
     "execution_count": 11,
     "metadata": {},
     "output_type": "execute_result"
    }
   ],
   "source": [
    "osiguranici_po_GB[\"Gender\"].agg([\"count\"])"
   ]
  },
  {
   "cell_type": "code",
   "execution_count": 12,
   "id": "b35f2172-e46f-4af1-adf4-ec14386b193d",
   "metadata": {},
   "outputs": [],
   "source": [
    "osiguranici_po_gradu = osiguranici.groupby(\"City\")"
   ]
  },
  {
   "cell_type": "code",
   "execution_count": 13,
   "id": "8734e662-4e9b-46b8-8adf-7629fb142d99",
   "metadata": {},
   "outputs": [
    {
     "data": {
      "text/html": [
       "<div>\n",
       "<style scoped>\n",
       "    .dataframe tbody tr th:only-of-type {\n",
       "        vertical-align: middle;\n",
       "    }\n",
       "\n",
       "    .dataframe tbody tr th {\n",
       "        vertical-align: top;\n",
       "    }\n",
       "\n",
       "    .dataframe thead th {\n",
       "        text-align: right;\n",
       "    }\n",
       "</style>\n",
       "<table border=\"1\" class=\"dataframe\">\n",
       "  <thead>\n",
       "    <tr style=\"text-align: right;\">\n",
       "      <th></th>\n",
       "      <th>count</th>\n",
       "      <th>min</th>\n",
       "      <th>max</th>\n",
       "      <th>mean</th>\n",
       "    </tr>\n",
       "    <tr>\n",
       "      <th>City</th>\n",
       "      <th></th>\n",
       "      <th></th>\n",
       "      <th></th>\n",
       "      <th></th>\n",
       "    </tr>\n",
       "  </thead>\n",
       "  <tbody>\n",
       "    <tr>\n",
       "      <th>Austin</th>\n",
       "      <td>12292</td>\n",
       "      <td>50602.0</td>\n",
       "      <td>132302.0</td>\n",
       "      <td>90277.513423</td>\n",
       "    </tr>\n",
       "    <tr>\n",
       "      <th>Boston</th>\n",
       "      <td>8301</td>\n",
       "      <td>48425.0</td>\n",
       "      <td>132348.0</td>\n",
       "      <td>91554.571497</td>\n",
       "    </tr>\n",
       "    <tr>\n",
       "      <th>Dallas</th>\n",
       "      <td>19707</td>\n",
       "      <td>-654.0</td>\n",
       "      <td>91479.0</td>\n",
       "      <td>45252.231187</td>\n",
       "    </tr>\n",
       "    <tr>\n",
       "      <th>Los Angeles</th>\n",
       "      <td>32173</td>\n",
       "      <td>51131.0</td>\n",
       "      <td>141249.0</td>\n",
       "      <td>95264.155410</td>\n",
       "    </tr>\n",
       "    <tr>\n",
       "      <th>Mountain View</th>\n",
       "      <td>14219</td>\n",
       "      <td>95202.0</td>\n",
       "      <td>177157.0</td>\n",
       "      <td>135078.415782</td>\n",
       "    </tr>\n",
       "    <tr>\n",
       "      <th>New York City</th>\n",
       "      <td>50307</td>\n",
       "      <td>55538.0</td>\n",
       "      <td>147170.0</td>\n",
       "      <td>96857.131393</td>\n",
       "    </tr>\n",
       "    <tr>\n",
       "      <th>San Diego</th>\n",
       "      <td>4881</td>\n",
       "      <td>64941.0</td>\n",
       "      <td>140190.0</td>\n",
       "      <td>100756.209178</td>\n",
       "    </tr>\n",
       "    <tr>\n",
       "      <th>Washington D.C.</th>\n",
       "      <td>8120</td>\n",
       "      <td>33335.0</td>\n",
       "      <td>107704.0</td>\n",
       "      <td>70991.612808</td>\n",
       "    </tr>\n",
       "  </tbody>\n",
       "</table>\n",
       "</div>"
      ],
      "text/plain": [
       "                 count      min       max           mean\n",
       "City                                                    \n",
       "Austin           12292  50602.0  132302.0   90277.513423\n",
       "Boston            8301  48425.0  132348.0   91554.571497\n",
       "Dallas           19707   -654.0   91479.0   45252.231187\n",
       "Los Angeles      32173  51131.0  141249.0   95264.155410\n",
       "Mountain View    14219  95202.0  177157.0  135078.415782\n",
       "New York City    50307  55538.0  147170.0   96857.131393\n",
       "San Diego         4881  64941.0  140190.0  100756.209178\n",
       "Washington D.C.   8120  33335.0  107704.0   70991.612808"
      ]
     },
     "execution_count": 13,
     "metadata": {},
     "output_type": "execute_result"
    }
   ],
   "source": [
    "osiguranici_po_gradu[\"Income\"].agg([\"count\", \"min\", \"max\", \"mean\"])"
   ]
  },
  {
   "cell_type": "code",
   "execution_count": 14,
   "id": "f922d743-f182-488e-b909-62fd12ae0052",
   "metadata": {},
   "outputs": [
    {
     "data": {
      "text/html": [
       "<div>\n",
       "<style scoped>\n",
       "    .dataframe tbody tr th:only-of-type {\n",
       "        vertical-align: middle;\n",
       "    }\n",
       "\n",
       "    .dataframe tbody tr th {\n",
       "        vertical-align: top;\n",
       "    }\n",
       "\n",
       "    .dataframe thead th {\n",
       "        text-align: right;\n",
       "    }\n",
       "</style>\n",
       "<table border=\"1\" class=\"dataframe\">\n",
       "  <thead>\n",
       "    <tr style=\"text-align: right;\">\n",
       "      <th></th>\n",
       "      <th>count</th>\n",
       "      <th>unique</th>\n",
       "      <th>top</th>\n",
       "      <th>freq</th>\n",
       "    </tr>\n",
       "    <tr>\n",
       "      <th>City</th>\n",
       "      <th></th>\n",
       "      <th></th>\n",
       "      <th></th>\n",
       "      <th></th>\n",
       "    </tr>\n",
       "  </thead>\n",
       "  <tbody>\n",
       "    <tr>\n",
       "      <th>Austin</th>\n",
       "      <td>12292</td>\n",
       "      <td>2</td>\n",
       "      <td>No</td>\n",
       "      <td>11281</td>\n",
       "    </tr>\n",
       "    <tr>\n",
       "      <th>Boston</th>\n",
       "      <td>8301</td>\n",
       "      <td>2</td>\n",
       "      <td>No</td>\n",
       "      <td>7615</td>\n",
       "    </tr>\n",
       "    <tr>\n",
       "      <th>Dallas</th>\n",
       "      <td>19707</td>\n",
       "      <td>2</td>\n",
       "      <td>No</td>\n",
       "      <td>18094</td>\n",
       "    </tr>\n",
       "    <tr>\n",
       "      <th>Los Angeles</th>\n",
       "      <td>32173</td>\n",
       "      <td>2</td>\n",
       "      <td>No</td>\n",
       "      <td>29605</td>\n",
       "    </tr>\n",
       "    <tr>\n",
       "      <th>Mountain View</th>\n",
       "      <td>14219</td>\n",
       "      <td>2</td>\n",
       "      <td>No</td>\n",
       "      <td>13041</td>\n",
       "    </tr>\n",
       "    <tr>\n",
       "      <th>New York City</th>\n",
       "      <td>50307</td>\n",
       "      <td>2</td>\n",
       "      <td>No</td>\n",
       "      <td>46286</td>\n",
       "    </tr>\n",
       "    <tr>\n",
       "      <th>San Diego</th>\n",
       "      <td>4881</td>\n",
       "      <td>2</td>\n",
       "      <td>No</td>\n",
       "      <td>4487</td>\n",
       "    </tr>\n",
       "    <tr>\n",
       "      <th>Washington D.C.</th>\n",
       "      <td>8120</td>\n",
       "      <td>2</td>\n",
       "      <td>No</td>\n",
       "      <td>7452</td>\n",
       "    </tr>\n",
       "  </tbody>\n",
       "</table>\n",
       "</div>"
      ],
      "text/plain": [
       "                 count unique top   freq\n",
       "City                                    \n",
       "Austin           12292      2  No  11281\n",
       "Boston            8301      2  No   7615\n",
       "Dallas           19707      2  No  18094\n",
       "Los Angeles      32173      2  No  29605\n",
       "Mountain View    14219      2  No  13041\n",
       "New York City    50307      2  No  46286\n",
       "San Diego         4881      2  No   4487\n",
       "Washington D.C.   8120      2  No   7452"
      ]
     },
     "execution_count": 14,
     "metadata": {},
     "output_type": "execute_result"
    }
   ],
   "source": [
    "osiguranici_po_gradu[\"Illness\"].describe()"
   ]
  },
  {
   "cell_type": "markdown",
   "id": "448c84c3-9415-47a5-8235-57c91e3cee30",
   "metadata": {},
   "source": [
    "# Zaključak\n",
    "\n",
    "Muškarci više ugovaraju osiguranje, ali su i većinom bolesni. Ukupno je 137861 (60869 Ž, 76992 M) zdrave osobe i 12139 (5331 Ž, 6808 M) bolesnih.\n",
    "Najviše osiguranika živi u NYC, a isto tako ima i najviše bolesnih ljudi."
   ]
  }
 ],
 "metadata": {
  "kernelspec": {
   "display_name": "Python 3 (ipykernel)",
   "language": "python",
   "name": "python3"
  },
  "language_info": {
   "codemirror_mode": {
    "name": "ipython",
    "version": 3
   },
   "file_extension": ".py",
   "mimetype": "text/x-python",
   "name": "python",
   "nbconvert_exporter": "python",
   "pygments_lexer": "ipython3",
   "version": "3.11.2"
  }
 },
 "nbformat": 4,
 "nbformat_minor": 5
}
