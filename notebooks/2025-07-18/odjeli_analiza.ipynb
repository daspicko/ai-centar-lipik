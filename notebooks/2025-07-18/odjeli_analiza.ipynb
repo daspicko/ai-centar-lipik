{
 "cells": [
  {
   "cell_type": "code",
   "execution_count": 1,
   "id": "5ba780a2-99ef-464b-86dd-c85e0a193624",
   "metadata": {},
   "outputs": [],
   "source": [
    "import pandas as pd\n",
    "import matplotlib.pylab as plt\n",
    "import seaborn as sns\n",
    "from scipy import stats"
   ]
  },
  {
   "cell_type": "code",
   "execution_count": 2,
   "id": "a54aa4dd-1e70-44f0-9206-95fd9d2d52c7",
   "metadata": {},
   "outputs": [],
   "source": [
    "odjeli_place = pd.read_csv(\"../../datasets/odjeli_place.csv\")"
   ]
  },
  {
   "cell_type": "code",
   "execution_count": 3,
   "id": "e23b6d39-7c68-416c-be2b-8801076fe18d",
   "metadata": {
    "scrolled": true
   },
   "outputs": [
    {
     "data": {
      "text/html": [
       "<div>\n",
       "<style scoped>\n",
       "    .dataframe tbody tr th:only-of-type {\n",
       "        vertical-align: middle;\n",
       "    }\n",
       "\n",
       "    .dataframe tbody tr th {\n",
       "        vertical-align: top;\n",
       "    }\n",
       "\n",
       "    .dataframe thead th {\n",
       "        text-align: right;\n",
       "    }\n",
       "</style>\n",
       "<table border=\"1\" class=\"dataframe\">\n",
       "  <thead>\n",
       "    <tr style=\"text-align: right;\">\n",
       "      <th></th>\n",
       "      <th>Unnamed: 0</th>\n",
       "      <th>Department</th>\n",
       "      <th>Salary</th>\n",
       "    </tr>\n",
       "  </thead>\n",
       "  <tbody>\n",
       "    <tr>\n",
       "      <th>0</th>\n",
       "      <td>0</td>\n",
       "      <td>Marketing</td>\n",
       "      <td>52483.570765</td>\n",
       "    </tr>\n",
       "    <tr>\n",
       "      <th>1</th>\n",
       "      <td>1</td>\n",
       "      <td>Marketing</td>\n",
       "      <td>49308.678494</td>\n",
       "    </tr>\n",
       "    <tr>\n",
       "      <th>2</th>\n",
       "      <td>2</td>\n",
       "      <td>Marketing</td>\n",
       "      <td>53238.442691</td>\n",
       "    </tr>\n",
       "    <tr>\n",
       "      <th>3</th>\n",
       "      <td>3</td>\n",
       "      <td>Marketing</td>\n",
       "      <td>57615.149282</td>\n",
       "    </tr>\n",
       "    <tr>\n",
       "      <th>4</th>\n",
       "      <td>4</td>\n",
       "      <td>Marketing</td>\n",
       "      <td>48829.233126</td>\n",
       "    </tr>\n",
       "    <tr>\n",
       "      <th>...</th>\n",
       "      <td>...</td>\n",
       "      <td>...</td>\n",
       "      <td>...</td>\n",
       "    </tr>\n",
       "    <tr>\n",
       "      <th>85</th>\n",
       "      <td>85</td>\n",
       "      <td>Sales</td>\n",
       "      <td>51989.457738</td>\n",
       "    </tr>\n",
       "    <tr>\n",
       "      <th>86</th>\n",
       "      <td>86</td>\n",
       "      <td>Sales</td>\n",
       "      <td>60492.412706</td>\n",
       "    </tr>\n",
       "    <tr>\n",
       "      <th>87</th>\n",
       "      <td>87</td>\n",
       "      <td>Sales</td>\n",
       "      <td>56972.506658</td>\n",
       "    </tr>\n",
       "    <tr>\n",
       "      <th>88</th>\n",
       "      <td>88</td>\n",
       "      <td>Sales</td>\n",
       "      <td>51821.438777</td>\n",
       "    </tr>\n",
       "    <tr>\n",
       "      <th>89</th>\n",
       "      <td>89</td>\n",
       "      <td>Sales</td>\n",
       "      <td>58079.604599</td>\n",
       "    </tr>\n",
       "  </tbody>\n",
       "</table>\n",
       "<p>90 rows × 3 columns</p>\n",
       "</div>"
      ],
      "text/plain": [
       "    Unnamed: 0 Department        Salary\n",
       "0            0  Marketing  52483.570765\n",
       "1            1  Marketing  49308.678494\n",
       "2            2  Marketing  53238.442691\n",
       "3            3  Marketing  57615.149282\n",
       "4            4  Marketing  48829.233126\n",
       "..         ...        ...           ...\n",
       "85          85      Sales  51989.457738\n",
       "86          86      Sales  60492.412706\n",
       "87          87      Sales  56972.506658\n",
       "88          88      Sales  51821.438777\n",
       "89          89      Sales  58079.604599\n",
       "\n",
       "[90 rows x 3 columns]"
      ]
     },
     "execution_count": 3,
     "metadata": {},
     "output_type": "execute_result"
    }
   ],
   "source": [
    "odjeli_place"
   ]
  },
  {
   "cell_type": "code",
   "execution_count": 4,
   "id": "c81a99b7-3c65-4a92-a441-cb83f9c26567",
   "metadata": {
    "scrolled": true
   },
   "outputs": [
    {
     "name": "stdout",
     "output_type": "stream",
     "text": [
      "<class 'pandas.core.frame.DataFrame'>\n",
      "RangeIndex: 90 entries, 0 to 89\n",
      "Data columns (total 3 columns):\n",
      " #   Column      Non-Null Count  Dtype  \n",
      "---  ------      --------------  -----  \n",
      " 0   Unnamed: 0  90 non-null     int64  \n",
      " 1   Department  90 non-null     object \n",
      " 2   Salary      90 non-null     float64\n",
      "dtypes: float64(1), int64(1), object(1)\n",
      "memory usage: 2.2+ KB\n"
     ]
    }
   ],
   "source": [
    "odjeli_place.info()"
   ]
  },
  {
   "cell_type": "code",
   "execution_count": 5,
   "id": "04ebbc4f-0b3a-489b-8893-677793ca3f63",
   "metadata": {},
   "outputs": [
    {
     "data": {
      "text/plain": [
       "Department\n",
       "Marketing    30\n",
       "Logistics    30\n",
       "Sales        30\n",
       "Name: count, dtype: int64"
      ]
     },
     "execution_count": 5,
     "metadata": {},
     "output_type": "execute_result"
    }
   ],
   "source": [
    "odjeli_place.Department.value_counts()"
   ]
  },
  {
   "cell_type": "code",
   "execution_count": 6,
   "id": "caf61657-d331-480f-b0b4-d63fee5eac6d",
   "metadata": {},
   "outputs": [],
   "source": [
    "odjeli_place_department = odjeli_place.groupby(\"Department\")"
   ]
  },
  {
   "cell_type": "code",
   "execution_count": 7,
   "id": "20563279-ae3b-4434-87a2-9bb5bddbdf07",
   "metadata": {},
   "outputs": [
    {
     "data": {
      "text/plain": [
       "Department\n",
       "Logistics    44454.768884\n",
       "Marketing    49059.265521\n",
       "Sales        55077.308635\n",
       "Name: Salary, dtype: float64"
      ]
     },
     "execution_count": 7,
     "metadata": {},
     "output_type": "execute_result"
    }
   ],
   "source": [
    "odjeli_place_department[\"Salary\"].mean()"
   ]
  },
  {
   "cell_type": "code",
   "execution_count": 8,
   "id": "73e9a461-a4b9-4037-920d-deb026f739fd",
   "metadata": {},
   "outputs": [
    {
     "data": {
      "text/plain": [
       "<Axes: xlabel='Salary', ylabel='Count'>"
      ]
     },
     "execution_count": 8,
     "metadata": {},
     "output_type": "execute_result"
    },
    {
     "data": {
      "image/png": "[encoded data removed]",
      "text/plain": [
       "<Figure size 640x480 with 1 Axes>"
      ]
     },
     "metadata": {},
     "output_type": "display_data"
    }
   ],
   "source": [
    "sns.histplot(odjeli_place.Salary)"
   ]
  },
  {
   "cell_type": "code",
   "execution_count": 9,
   "id": "316d8076-5d95-4961-b192-838f8b206acb",
   "metadata": {},
   "outputs": [
    {
     "data": {
      "text/html": [
       "<div>\n",
       "<style scoped>\n",
       "    .dataframe tbody tr th:only-of-type {\n",
       "        vertical-align: middle;\n",
       "    }\n",
       "\n",
       "    .dataframe tbody tr th {\n",
       "        vertical-align: top;\n",
       "    }\n",
       "\n",
       "    .dataframe thead th {\n",
       "        text-align: right;\n",
       "    }\n",
       "</style>\n",
       "<table border=\"1\" class=\"dataframe\">\n",
       "  <thead>\n",
       "    <tr style=\"text-align: right;\">\n",
       "      <th></th>\n",
       "      <th>Unnamed: 0</th>\n",
       "      <th>Salary</th>\n",
       "    </tr>\n",
       "  </thead>\n",
       "  <tbody>\n",
       "    <tr>\n",
       "      <th>Unnamed: 0</th>\n",
       "      <td>1.00000</td>\n",
       "      <td>0.34113</td>\n",
       "    </tr>\n",
       "    <tr>\n",
       "      <th>Salary</th>\n",
       "      <td>0.34113</td>\n",
       "      <td>1.00000</td>\n",
       "    </tr>\n",
       "  </tbody>\n",
       "</table>\n",
       "</div>"
      ],
      "text/plain": [
       "            Unnamed: 0   Salary\n",
       "Unnamed: 0     1.00000  0.34113\n",
       "Salary         0.34113  1.00000"
      ]
     },
     "execution_count": 9,
     "metadata": {},
     "output_type": "execute_result"
    }
   ],
   "source": [
    "odjeli_place.corr(numeric_only=True)"
   ]
  },
  {
   "cell_type": "code",
   "execution_count": 10,
   "id": "fd41863f-c238-4e34-9045-c89d551d678a",
   "metadata": {},
   "outputs": [
    {
     "data": {
      "text/html": [
       "<div>\n",
       "<style scoped>\n",
       "    .dataframe tbody tr th:only-of-type {\n",
       "        vertical-align: middle;\n",
       "    }\n",
       "\n",
       "    .dataframe tbody tr th {\n",
       "        vertical-align: top;\n",
       "    }\n",
       "\n",
       "    .dataframe thead th {\n",
       "        text-align: right;\n",
       "    }\n",
       "</style>\n",
       "<table border=\"1\" class=\"dataframe\">\n",
       "  <thead>\n",
       "    <tr style=\"text-align: right;\">\n",
       "      <th></th>\n",
       "      <th>Unnamed: 0</th>\n",
       "      <th>Salary</th>\n",
       "    </tr>\n",
       "  </thead>\n",
       "  <tbody>\n",
       "    <tr>\n",
       "      <th>count</th>\n",
       "      <td>90.000000</td>\n",
       "      <td>90.000000</td>\n",
       "    </tr>\n",
       "    <tr>\n",
       "      <th>mean</th>\n",
       "      <td>44.500000</td>\n",
       "      <td>49530.447680</td>\n",
       "    </tr>\n",
       "    <tr>\n",
       "      <th>std</th>\n",
       "      <td>26.124701</td>\n",
       "      <td>6556.812273</td>\n",
       "    </tr>\n",
       "    <tr>\n",
       "      <th>min</th>\n",
       "      <td>0.000000</td>\n",
       "      <td>36181.484443</td>\n",
       "    </tr>\n",
       "    <tr>\n",
       "      <th>25%</th>\n",
       "      <td>22.250000</td>\n",
       "      <td>44936.698921</td>\n",
       "    </tr>\n",
       "    <tr>\n",
       "      <th>50%</th>\n",
       "      <td>44.500000</td>\n",
       "      <td>48850.216856</td>\n",
       "    </tr>\n",
       "    <tr>\n",
       "      <th>75%</th>\n",
       "      <td>66.750000</td>\n",
       "      <td>53595.289462</td>\n",
       "    </tr>\n",
       "    <tr>\n",
       "      <th>max</th>\n",
       "      <td>89.000000</td>\n",
       "      <td>64387.861935</td>\n",
       "    </tr>\n",
       "  </tbody>\n",
       "</table>\n",
       "</div>"
      ],
      "text/plain": [
       "       Unnamed: 0        Salary\n",
       "count   90.000000     90.000000\n",
       "mean    44.500000  49530.447680\n",
       "std     26.124701   6556.812273\n",
       "min      0.000000  36181.484443\n",
       "25%     22.250000  44936.698921\n",
       "50%     44.500000  48850.216856\n",
       "75%     66.750000  53595.289462\n",
       "max     89.000000  64387.861935"
      ]
     },
     "execution_count": 10,
     "metadata": {},
     "output_type": "execute_result"
    }
   ],
   "source": [
    "odjeli_place.describe()"
   ]
  },
  {
   "cell_type": "code",
   "execution_count": 11,
   "id": "4db646ff-9edc-493f-9db5-769fb3429ada",
   "metadata": {},
   "outputs": [],
   "source": [
    "marketing = odjeli_place[odjeli_place['Department'] == 'Marketing']['Salary']\n",
    "logistics = odjeli_place[odjeli_place['Department'] == 'Logistics']['Salary']\n",
    "sales = odjeli_place[odjeli_place['Department'] == 'Sales']['Salary']"
   ]
  },
  {
   "cell_type": "code",
   "execution_count": 12,
   "id": "d9ce406e-76d1-4087-9acb-11a1d6e550bb",
   "metadata": {},
   "outputs": [],
   "source": [
    "F_statistic, p_value = stats.f_oneway(marketing, logistics, sales)"
   ]
  },
  {
   "cell_type": "code",
   "execution_count": 13,
   "id": "d9cc06f9-cfd6-467b-9497-48034a2e4de5",
   "metadata": {},
   "outputs": [
    {
     "data": {
      "text/plain": [
       "np.float64(34.873805599251384)"
      ]
     },
     "execution_count": 13,
     "metadata": {},
     "output_type": "execute_result"
    }
   ],
   "source": [
    "F_statistic"
   ]
  },
  {
   "cell_type": "code",
   "execution_count": 14,
   "id": "f32cee7a-07a8-4f65-bfca-37dee9efc4f5",
   "metadata": {},
   "outputs": [
    {
     "data": {
      "text/plain": [
       "np.float64(7.548262426790077e-12)"
      ]
     },
     "execution_count": 14,
     "metadata": {},
     "output_type": "execute_result"
    }
   ],
   "source": [
    "p_value"
   ]
  }
 ],
 "metadata": {
  "kernelspec": {
   "display_name": "Python 3 (ipykernel)",
   "language": "python",
   "name": "python3"
  },
  "language_info": {
   "codemirror_mode": {
    "name": "ipython",
    "version": 3
   },
   "file_extension": ".py",
   "mimetype": "text/x-python",
   "name": "python",
   "nbconvert_exporter": "python",
   "pygments_lexer": "ipython3",
   "version": "3.11.2"
  }
 },
 "nbformat": 4,
 "nbformat_minor": 5
}
