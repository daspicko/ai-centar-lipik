{
 "cells": [
  {
   "cell_type": "code",
   "execution_count": 1,
   "id": "ff34970c-7adf-4c18-99a2-08748bbaf6b9",
   "metadata": {},
   "outputs": [],
   "source": [
    "import pandas as pd\n",
    "import matplotlib.pylab as plt\n",
    "import seaborn as sns\n",
    "from scipy import stats"
   ]
  },
  {
   "cell_type": "code",
   "execution_count": 2,
   "id": "9343433c-4a90-40d1-b819-88f0addd947c",
   "metadata": {},
   "outputs": [],
   "source": [
    "df_exercise = pd.read_csv(\"../../datasets/gender_vjezba.csv\")"
   ]
  },
  {
   "cell_type": "code",
   "execution_count": 3,
   "id": "6a581ebf-e6fb-4143-8dfe-4fe995ae2fac",
   "metadata": {},
   "outputs": [
    {
     "data": {
      "text/html": [
       "<div>\n",
       "<style scoped>\n",
       "    .dataframe tbody tr th:only-of-type {\n",
       "        vertical-align: middle;\n",
       "    }\n",
       "\n",
       "    .dataframe tbody tr th {\n",
       "        vertical-align: top;\n",
       "    }\n",
       "\n",
       "    .dataframe thead th {\n",
       "        text-align: right;\n",
       "    }\n",
       "</style>\n",
       "<table border=\"1\" class=\"dataframe\">\n",
       "  <thead>\n",
       "    <tr style=\"text-align: right;\">\n",
       "      <th></th>\n",
       "      <th>Unnamed: 0</th>\n",
       "      <th>Gender</th>\n",
       "      <th>ExerciseFrequency</th>\n",
       "    </tr>\n",
       "  </thead>\n",
       "  <tbody>\n",
       "    <tr>\n",
       "      <th>0</th>\n",
       "      <td>0</td>\n",
       "      <td>Male</td>\n",
       "      <td>6.745071</td>\n",
       "    </tr>\n",
       "    <tr>\n",
       "      <th>1</th>\n",
       "      <td>1</td>\n",
       "      <td>Male</td>\n",
       "      <td>5.792604</td>\n",
       "    </tr>\n",
       "    <tr>\n",
       "      <th>2</th>\n",
       "      <td>2</td>\n",
       "      <td>Male</td>\n",
       "      <td>6.971533</td>\n",
       "    </tr>\n",
       "    <tr>\n",
       "      <th>3</th>\n",
       "      <td>3</td>\n",
       "      <td>Male</td>\n",
       "      <td>8.284545</td>\n",
       "    </tr>\n",
       "    <tr>\n",
       "      <th>4</th>\n",
       "      <td>4</td>\n",
       "      <td>Male</td>\n",
       "      <td>5.648770</td>\n",
       "    </tr>\n",
       "    <tr>\n",
       "      <th>...</th>\n",
       "      <td>...</td>\n",
       "      <td>...</td>\n",
       "      <td>...</td>\n",
       "    </tr>\n",
       "    <tr>\n",
       "      <th>195</th>\n",
       "      <td>195</td>\n",
       "      <td>Female</td>\n",
       "      <td>6.077976</td>\n",
       "    </tr>\n",
       "    <tr>\n",
       "      <th>196</th>\n",
       "      <td>196</td>\n",
       "      <td>Female</td>\n",
       "      <td>4.174214</td>\n",
       "    </tr>\n",
       "    <tr>\n",
       "      <th>197</th>\n",
       "      <td>197</td>\n",
       "      <td>Female</td>\n",
       "      <td>5.730588</td>\n",
       "    </tr>\n",
       "    <tr>\n",
       "      <th>198</th>\n",
       "      <td>198</td>\n",
       "      <td>Female</td>\n",
       "      <td>5.587313</td>\n",
       "    </tr>\n",
       "    <tr>\n",
       "      <th>199</th>\n",
       "      <td>199</td>\n",
       "      <td>Female</td>\n",
       "      <td>3.785545</td>\n",
       "    </tr>\n",
       "  </tbody>\n",
       "</table>\n",
       "<p>200 rows × 3 columns</p>\n",
       "</div>"
      ],
      "text/plain": [
       "     Unnamed: 0  Gender  ExerciseFrequency\n",
       "0             0    Male           6.745071\n",
       "1             1    Male           5.792604\n",
       "2             2    Male           6.971533\n",
       "3             3    Male           8.284545\n",
       "4             4    Male           5.648770\n",
       "..          ...     ...                ...\n",
       "195         195  Female           6.077976\n",
       "196         196  Female           4.174214\n",
       "197         197  Female           5.730588\n",
       "198         198  Female           5.587313\n",
       "199         199  Female           3.785545\n",
       "\n",
       "[200 rows x 3 columns]"
      ]
     },
     "execution_count": 3,
     "metadata": {},
     "output_type": "execute_result"
    }
   ],
   "source": [
    "df_exercise"
   ]
  },
  {
   "cell_type": "code",
   "execution_count": 4,
   "id": "6a9eb594-ca41-482c-b166-39a77d9f9093",
   "metadata": {},
   "outputs": [
    {
     "name": "stdout",
     "output_type": "stream",
     "text": [
      "<class 'pandas.core.frame.DataFrame'>\n",
      "RangeIndex: 200 entries, 0 to 199\n",
      "Data columns (total 3 columns):\n",
      " #   Column             Non-Null Count  Dtype  \n",
      "---  ------             --------------  -----  \n",
      " 0   Unnamed: 0         200 non-null    int64  \n",
      " 1   Gender             200 non-null    object \n",
      " 2   ExerciseFrequency  200 non-null    float64\n",
      "dtypes: float64(1), int64(1), object(1)\n",
      "memory usage: 4.8+ KB\n"
     ]
    }
   ],
   "source": [
    "df_exercise.info()"
   ]
  },
  {
   "cell_type": "code",
   "execution_count": 5,
   "id": "b2d10297-770a-4c83-825b-1351f12328db",
   "metadata": {},
   "outputs": [
    {
     "data": {
      "text/plain": [
       "Gender\n",
       "Male      100\n",
       "Female    100\n",
       "Name: count, dtype: int64"
      ]
     },
     "execution_count": 5,
     "metadata": {},
     "output_type": "execute_result"
    }
   ],
   "source": [
    "df_exercise.Gender.value_counts()"
   ]
  },
  {
   "cell_type": "code",
   "execution_count": 6,
   "id": "8c599a2b-7131-4ffa-bbe5-99451c1391cb",
   "metadata": {},
   "outputs": [],
   "source": [
    "genders = df_exercise.groupby(\"Gender\")"
   ]
  },
  {
   "cell_type": "code",
   "execution_count": 7,
   "id": "0cf5e891-4759-49c0-baa4-82a5a2c67b7f",
   "metadata": {},
   "outputs": [
    {
     "data": {
      "text/html": [
       "<div>\n",
       "<style scoped>\n",
       "    .dataframe tbody tr th:only-of-type {\n",
       "        vertical-align: middle;\n",
       "    }\n",
       "\n",
       "    .dataframe tbody tr th {\n",
       "        vertical-align: top;\n",
       "    }\n",
       "\n",
       "    .dataframe thead th {\n",
       "        text-align: right;\n",
       "    }\n",
       "</style>\n",
       "<table border=\"1\" class=\"dataframe\">\n",
       "  <thead>\n",
       "    <tr style=\"text-align: right;\">\n",
       "      <th></th>\n",
       "      <th>count</th>\n",
       "      <th>mean</th>\n",
       "      <th>std</th>\n",
       "      <th>min</th>\n",
       "      <th>25%</th>\n",
       "      <th>50%</th>\n",
       "      <th>75%</th>\n",
       "      <th>max</th>\n",
       "    </tr>\n",
       "    <tr>\n",
       "      <th>Gender</th>\n",
       "      <th></th>\n",
       "      <th></th>\n",
       "      <th></th>\n",
       "      <th></th>\n",
       "      <th></th>\n",
       "      <th></th>\n",
       "      <th></th>\n",
       "      <th></th>\n",
       "    </tr>\n",
       "  </thead>\n",
       "  <tbody>\n",
       "    <tr>\n",
       "      <th>Female</th>\n",
       "      <td>100.0</td>\n",
       "      <td>5.533457</td>\n",
       "      <td>1.430503</td>\n",
       "      <td>2.621843</td>\n",
       "      <td>4.291509</td>\n",
       "      <td>5.626161</td>\n",
       "      <td>6.307256</td>\n",
       "      <td>9.580254</td>\n",
       "    </tr>\n",
       "    <tr>\n",
       "      <th>Male</th>\n",
       "      <td>100.0</td>\n",
       "      <td>5.844230</td>\n",
       "      <td>1.362253</td>\n",
       "      <td>2.070382</td>\n",
       "      <td>5.098641</td>\n",
       "      <td>5.809566</td>\n",
       "      <td>6.608928</td>\n",
       "      <td>8.778417</td>\n",
       "    </tr>\n",
       "  </tbody>\n",
       "</table>\n",
       "</div>"
      ],
      "text/plain": [
       "        count      mean       std       min       25%       50%       75%  \\\n",
       "Gender                                                                      \n",
       "Female  100.0  5.533457  1.430503  2.621843  4.291509  5.626161  6.307256   \n",
       "Male    100.0  5.844230  1.362253  2.070382  5.098641  5.809566  6.608928   \n",
       "\n",
       "             max  \n",
       "Gender            \n",
       "Female  9.580254  \n",
       "Male    8.778417  "
      ]
     },
     "execution_count": 7,
     "metadata": {},
     "output_type": "execute_result"
    }
   ],
   "source": [
    "genders[\"ExerciseFrequency\"].describe()"
   ]
  },
  {
   "cell_type": "code",
   "execution_count": 8,
   "id": "f2509786-80bf-4852-a597-8a88a7e89d44",
   "metadata": {},
   "outputs": [
    {
     "data": {
      "text/plain": [
       "<Axes: xlabel='Gender', ylabel='Count'>"
      ]
     },
     "execution_count": 8,
     "metadata": {},
     "output_type": "execute_result"
    },
    {
     "data": {
      "image/png": "[encoded data removed]",
      "text/plain": [
       "<Figure size 640x480 with 1 Axes>"
      ]
     },
     "metadata": {},
     "output_type": "display_data"
    }
   ],
   "source": [
    "sns.histplot(df_exercise.Gender)"
   ]
  },
  {
   "cell_type": "code",
   "execution_count": 9,
   "id": "7ed7bd54-65d2-4cd2-b7f5-bb1a10e02bdc",
   "metadata": {},
   "outputs": [
    {
     "data": {
      "text/html": [
       "<div>\n",
       "<style scoped>\n",
       "    .dataframe tbody tr th:only-of-type {\n",
       "        vertical-align: middle;\n",
       "    }\n",
       "\n",
       "    .dataframe tbody tr th {\n",
       "        vertical-align: top;\n",
       "    }\n",
       "\n",
       "    .dataframe thead th {\n",
       "        text-align: right;\n",
       "    }\n",
       "</style>\n",
       "<table border=\"1\" class=\"dataframe\">\n",
       "  <thead>\n",
       "    <tr style=\"text-align: right;\">\n",
       "      <th></th>\n",
       "      <th>Unnamed: 0</th>\n",
       "      <th>ExerciseFrequency</th>\n",
       "    </tr>\n",
       "  </thead>\n",
       "  <tbody>\n",
       "    <tr>\n",
       "      <th>Unnamed: 0</th>\n",
       "      <td>1.000000</td>\n",
       "      <td>-0.083867</td>\n",
       "    </tr>\n",
       "    <tr>\n",
       "      <th>ExerciseFrequency</th>\n",
       "      <td>-0.083867</td>\n",
       "      <td>1.000000</td>\n",
       "    </tr>\n",
       "  </tbody>\n",
       "</table>\n",
       "</div>"
      ],
      "text/plain": [
       "                   Unnamed: 0  ExerciseFrequency\n",
       "Unnamed: 0           1.000000          -0.083867\n",
       "ExerciseFrequency   -0.083867           1.000000"
      ]
     },
     "execution_count": 9,
     "metadata": {},
     "output_type": "execute_result"
    }
   ],
   "source": [
    "df_exercise.corr(numeric_only=True)"
   ]
  },
  {
   "cell_type": "code",
   "execution_count": 10,
   "id": "278fa5bb-db96-44f4-b9f8-2491462e07f1",
   "metadata": {},
   "outputs": [],
   "source": [
    "male = df_exercise[df_exercise['Gender'] == 'Male']['ExerciseFrequency']\n",
    "female = df_exercise[df_exercise['Gender'] == 'Female']['ExerciseFrequency']"
   ]
  },
  {
   "cell_type": "code",
   "execution_count": 11,
   "id": "f3907bcb-8da6-4d9c-a447-6dc1d33be707",
   "metadata": {},
   "outputs": [],
   "source": [
    "F_statistic, p_value = stats.f_oneway(male, female)"
   ]
  },
  {
   "cell_type": "code",
   "execution_count": 12,
   "id": "7dc52fc3-de82-48c5-9421-7d1fd862255e",
   "metadata": {},
   "outputs": [
    {
     "data": {
      "text/plain": [
       "np.float64(2.4750968599505234)"
      ]
     },
     "execution_count": 12,
     "metadata": {},
     "output_type": "execute_result"
    }
   ],
   "source": [
    "F_statistic"
   ]
  },
  {
   "cell_type": "code",
   "execution_count": 13,
   "id": "cede5edf-76ab-4452-b49b-a8493f441969",
   "metadata": {},
   "outputs": [
    {
     "data": {
      "text/plain": [
       "np.float64(0.11725885247920977)"
      ]
     },
     "execution_count": 13,
     "metadata": {},
     "output_type": "execute_result"
    }
   ],
   "source": [
    "p_value"
   ]
  }
 ],
 "metadata": {
  "kernelspec": {
   "display_name": "Python 3 (ipykernel)",
   "language": "python",
   "name": "python3"
  },
  "language_info": {
   "codemirror_mode": {
    "name": "ipython",
    "version": 3
   },
   "file_extension": ".py",
   "mimetype": "text/x-python",
   "name": "python",
   "nbconvert_exporter": "python",
   "pygments_lexer": "ipython3",
   "version": "3.11.2"
  }
 },
 "nbformat": 4,
 "nbformat_minor": 5
}
