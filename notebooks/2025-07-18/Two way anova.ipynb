{
 "cells": [
  {
   "cell_type": "code",
   "execution_count": 17,
   "id": "008d4a04-3aa3-4b35-8a30-3e89856f6e83",
   "metadata": {},
   "outputs": [],
   "source": [
    "import pandas as pd\n",
    "import numpy as np\n",
    "import statsmodels.api as sm\n",
    "from statsmodels.formula.api import ols"
   ]
  },
  {
   "cell_type": "code",
   "execution_count": 18,
   "id": "f33c91f0-4722-4a24-ad28-be01ee08f5e2",
   "metadata": {},
   "outputs": [],
   "source": [
    "np.random.seed(42)"
   ]
  },
  {
   "cell_type": "code",
   "execution_count": 19,
   "id": "0344640e-e54a-44e4-82be-97c29d69b2a3",
   "metadata": {},
   "outputs": [],
   "source": [
    "departments = np.random.choice(['Marketing', 'Logistics', 'Sales'], 50)\n",
    "experience_levels = np.random.choice(['Junior', 'Mid', 'Senior'], 50)"
   ]
  },
  {
   "cell_type": "code",
   "execution_count": 20,
   "id": "2540d0ff-79de-432f-98da-a5e156a246c2",
   "metadata": {},
   "outputs": [],
   "source": [
    "salary = np.random.normal(loc=50000, scale=5000, size=50) + \\\n",
    "         (np.where(departments == 'Marketing', 2000, 0)) + \\\n",
    "         (np.where(departments == 'Sales', -3000, 0)) + \\\n",
    "         (np.where(experience_levels == 'Senior', 5000, 0)) + \\\n",
    "         (np.where(experience_levels == 'Junior', -5000, 0))"
   ]
  },
  {
   "cell_type": "code",
   "execution_count": 21,
   "id": "c9be8287-ae01-4865-99a1-b5fab91c1243",
   "metadata": {},
   "outputs": [],
   "source": [
    "df = pd.DataFrame({\n",
    "    'Department': departments,\n",
    "    'Experience': experience_levels,\n",
    "    'Salary': salary\n",
    "})"
   ]
  },
  {
   "cell_type": "code",
   "execution_count": 22,
   "id": "69b01426-2af8-4477-910e-175f6085c286",
   "metadata": {},
   "outputs": [
    {
     "data": {
      "text/html": [
       "<div>\n",
       "<style scoped>\n",
       "    .dataframe tbody tr th:only-of-type {\n",
       "        vertical-align: middle;\n",
       "    }\n",
       "\n",
       "    .dataframe tbody tr th {\n",
       "        vertical-align: top;\n",
       "    }\n",
       "\n",
       "    .dataframe thead th {\n",
       "        text-align: right;\n",
       "    }\n",
       "</style>\n",
       "<table border=\"1\" class=\"dataframe\">\n",
       "  <thead>\n",
       "    <tr style=\"text-align: right;\">\n",
       "      <th></th>\n",
       "      <th>Department</th>\n",
       "      <th>Experience</th>\n",
       "      <th>Salary</th>\n",
       "    </tr>\n",
       "  </thead>\n",
       "  <tbody>\n",
       "    <tr>\n",
       "      <th>0</th>\n",
       "      <td>Sales</td>\n",
       "      <td>Mid</td>\n",
       "      <td>49910.613974</td>\n",
       "    </tr>\n",
       "    <tr>\n",
       "      <th>1</th>\n",
       "      <td>Marketing</td>\n",
       "      <td>Junior</td>\n",
       "      <td>51438.742298</td>\n",
       "    </tr>\n",
       "    <tr>\n",
       "      <th>2</th>\n",
       "      <td>Sales</td>\n",
       "      <td>Mid</td>\n",
       "      <td>51471.661651</td>\n",
       "    </tr>\n",
       "    <tr>\n",
       "      <th>3</th>\n",
       "      <td>Sales</td>\n",
       "      <td>Junior</td>\n",
       "      <td>45774.988986</td>\n",
       "    </tr>\n",
       "    <tr>\n",
       "      <th>4</th>\n",
       "      <td>Marketing</td>\n",
       "      <td>Mid</td>\n",
       "      <td>50964.170549</td>\n",
       "    </tr>\n",
       "  </tbody>\n",
       "</table>\n",
       "</div>"
      ],
      "text/plain": [
       "  Department Experience        Salary\n",
       "0      Sales        Mid  49910.613974\n",
       "1  Marketing     Junior  51438.742298\n",
       "2      Sales        Mid  51471.661651\n",
       "3      Sales     Junior  45774.988986\n",
       "4  Marketing        Mid  50964.170549"
      ]
     },
     "execution_count": 22,
     "metadata": {},
     "output_type": "execute_result"
    }
   ],
   "source": [
    "df.head()"
   ]
  },
  {
   "cell_type": "code",
   "execution_count": 23,
   "id": "91200707-28db-43b7-82aa-d4b11c9283ff",
   "metadata": {},
   "outputs": [],
   "source": [
    "df_department = df.groupby(\"Department\")"
   ]
  },
  {
   "cell_type": "code",
   "execution_count": 24,
   "id": "4db78ee1-b036-4b34-b374-562f4c44f21a",
   "metadata": {},
   "outputs": [
    {
     "data": {
      "text/plain": [
       "Department\n",
       "Logistics    48198.185959\n",
       "Marketing    54369.758458\n",
       "Sales        46454.917331\n",
       "Name: Salary, dtype: float64"
      ]
     },
     "execution_count": 24,
     "metadata": {},
     "output_type": "execute_result"
    }
   ],
   "source": [
    "df_department.Salary.mean()"
   ]
  },
  {
   "cell_type": "code",
   "execution_count": 25,
   "id": "6aa2687c-0159-4d02-9ed3-9281bb946ab7",
   "metadata": {},
   "outputs": [],
   "source": [
    "model = ols('Salary ~ C(Department) + C(Experience) + C(Department):C(Experience)', data=df).fit()"
   ]
  },
  {
   "cell_type": "code",
   "execution_count": 26,
   "id": "a5fb8ff9-ed9b-4265-8ec0-95f61f42e327",
   "metadata": {},
   "outputs": [],
   "source": [
    "anova_table = sm.stats.anova_lm(model, typ=2)"
   ]
  },
  {
   "cell_type": "code",
   "execution_count": 27,
   "id": "214139c8-6847-4bd0-b355-74eabfad2565",
   "metadata": {},
   "outputs": [
    {
     "data": {
      "text/html": [
       "<div>\n",
       "<style scoped>\n",
       "    .dataframe tbody tr th:only-of-type {\n",
       "        vertical-align: middle;\n",
       "    }\n",
       "\n",
       "    .dataframe tbody tr th {\n",
       "        vertical-align: top;\n",
       "    }\n",
       "\n",
       "    .dataframe thead th {\n",
       "        text-align: right;\n",
       "    }\n",
       "</style>\n",
       "<table border=\"1\" class=\"dataframe\">\n",
       "  <thead>\n",
       "    <tr style=\"text-align: right;\">\n",
       "      <th></th>\n",
       "      <th>sum_sq</th>\n",
       "      <th>df</th>\n",
       "      <th>F</th>\n",
       "      <th>PR(&gt;F)</th>\n",
       "    </tr>\n",
       "  </thead>\n",
       "  <tbody>\n",
       "    <tr>\n",
       "      <th>C(Department)</th>\n",
       "      <td>3.544608e+08</td>\n",
       "      <td>2.0</td>\n",
       "      <td>7.097703</td>\n",
       "      <td>0.002255</td>\n",
       "    </tr>\n",
       "    <tr>\n",
       "      <th>C(Experience)</th>\n",
       "      <td>5.870328e+08</td>\n",
       "      <td>2.0</td>\n",
       "      <td>11.754713</td>\n",
       "      <td>0.000092</td>\n",
       "    </tr>\n",
       "    <tr>\n",
       "      <th>C(Department):C(Experience)</th>\n",
       "      <td>1.016781e+08</td>\n",
       "      <td>4.0</td>\n",
       "      <td>1.017999</td>\n",
       "      <td>0.409391</td>\n",
       "    </tr>\n",
       "    <tr>\n",
       "      <th>Residual</th>\n",
       "      <td>1.023774e+09</td>\n",
       "      <td>41.0</td>\n",
       "      <td>NaN</td>\n",
       "      <td>NaN</td>\n",
       "    </tr>\n",
       "  </tbody>\n",
       "</table>\n",
       "</div>"
      ],
      "text/plain": [
       "                                   sum_sq    df          F    PR(>F)\n",
       "C(Department)                3.544608e+08   2.0   7.097703  0.002255\n",
       "C(Experience)                5.870328e+08   2.0  11.754713  0.000092\n",
       "C(Department):C(Experience)  1.016781e+08   4.0   1.017999  0.409391\n",
       "Residual                     1.023774e+09  41.0        NaN       NaN"
      ]
     },
     "execution_count": 27,
     "metadata": {},
     "output_type": "execute_result"
    }
   ],
   "source": [
    "anova_table"
   ]
  },
  {
   "cell_type": "code",
   "execution_count": null,
   "id": "fc8c1ef8-e7a6-40cf-84a8-768e87c62fd0",
   "metadata": {},
   "outputs": [],
   "source": []
  }
 ],
 "metadata": {
  "kernelspec": {
   "display_name": "Python 3 (ipykernel)",
   "language": "python",
   "name": "python3"
  },
  "language_info": {
   "codemirror_mode": {
    "name": "ipython",
    "version": 3
   },
   "file_extension": ".py",
   "mimetype": "text/x-python",
   "name": "python",
   "nbconvert_exporter": "python",
   "pygments_lexer": "ipython3",
   "version": "3.12.9"
  }
 },
 "nbformat": 4,
 "nbformat_minor": 5
}
