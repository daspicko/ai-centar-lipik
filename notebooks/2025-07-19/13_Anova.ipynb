{
 "cells": [
  {
   "cell_type": "code",
   "execution_count": 1,
   "id": "0d95f279-d664-4dcb-92b4-510a66dbac5f",
   "metadata": {},
   "outputs": [],
   "source": [
    "import pandas as pd \n",
    "from scipy import stats\n",
    "import matplotlib.pyplot as plt"
   ]
  },
  {
   "cell_type": "markdown",
   "id": "6c941fff-fe78-4d78-86bc-cb2b9b131abc",
   "metadata": {},
   "source": [
    "# Primjer 1"
   ]
  },
  {
   "cell_type": "code",
   "execution_count": 2,
   "id": "c4bb42f8-565c-4ef9-948c-53042aee8aa8",
   "metadata": {},
   "outputs": [],
   "source": [
    "odjeli_place = pd.read_csv (\"../../datasets/odjeli_place.csv\")"
   ]
  },
  {
   "cell_type": "markdown",
   "id": "b16cf01d-9dac-44ab-a387-c7e46722f5ad",
   "metadata": {},
   "source": [
    "# One way Anova\n",
    "\n",
    "s jedne strane imamo nezavisna kategoričku varijablu, a s druge strane imamo zavisnu kontinuiranu varijablu\n",
    "\n",
    "Problem: postoje li razlike između plaća po odjelima / postoji li nekakva asocijacija (veza) između odjela i plaće\n",
    "\n",
    "Ne možemo koristiti korelaciju\n",
    "\n",
    "Jesu li te razlike statistički značajne ili slučajne?\n",
    "\n",
    "Kako izgleda statistički značajna razlika = imaju različite aritmetičke sredine"
   ]
  },
  {
   "cell_type": "code",
   "execution_count": 3,
   "id": "263c7d43-05ad-4f45-b986-fd97a341d88d",
   "metadata": {},
   "outputs": [
    {
     "data": {
      "text/html": [
       "<div>\n",
       "<style scoped>\n",
       "    .dataframe tbody tr th:only-of-type {\n",
       "        vertical-align: middle;\n",
       "    }\n",
       "\n",
       "    .dataframe tbody tr th {\n",
       "        vertical-align: top;\n",
       "    }\n",
       "\n",
       "    .dataframe thead th {\n",
       "        text-align: right;\n",
       "    }\n",
       "</style>\n",
       "<table border=\"1\" class=\"dataframe\">\n",
       "  <thead>\n",
       "    <tr style=\"text-align: right;\">\n",
       "      <th></th>\n",
       "      <th>Unnamed: 0</th>\n",
       "      <th>Department</th>\n",
       "      <th>Salary</th>\n",
       "    </tr>\n",
       "  </thead>\n",
       "  <tbody>\n",
       "    <tr>\n",
       "      <th>0</th>\n",
       "      <td>0</td>\n",
       "      <td>Marketing</td>\n",
       "      <td>52483.570765</td>\n",
       "    </tr>\n",
       "    <tr>\n",
       "      <th>1</th>\n",
       "      <td>1</td>\n",
       "      <td>Marketing</td>\n",
       "      <td>49308.678494</td>\n",
       "    </tr>\n",
       "    <tr>\n",
       "      <th>2</th>\n",
       "      <td>2</td>\n",
       "      <td>Marketing</td>\n",
       "      <td>53238.442691</td>\n",
       "    </tr>\n",
       "    <tr>\n",
       "      <th>3</th>\n",
       "      <td>3</td>\n",
       "      <td>Marketing</td>\n",
       "      <td>57615.149282</td>\n",
       "    </tr>\n",
       "    <tr>\n",
       "      <th>4</th>\n",
       "      <td>4</td>\n",
       "      <td>Marketing</td>\n",
       "      <td>48829.233126</td>\n",
       "    </tr>\n",
       "    <tr>\n",
       "      <th>...</th>\n",
       "      <td>...</td>\n",
       "      <td>...</td>\n",
       "      <td>...</td>\n",
       "    </tr>\n",
       "    <tr>\n",
       "      <th>85</th>\n",
       "      <td>85</td>\n",
       "      <td>Sales</td>\n",
       "      <td>51989.457738</td>\n",
       "    </tr>\n",
       "    <tr>\n",
       "      <th>86</th>\n",
       "      <td>86</td>\n",
       "      <td>Sales</td>\n",
       "      <td>60492.412706</td>\n",
       "    </tr>\n",
       "    <tr>\n",
       "      <th>87</th>\n",
       "      <td>87</td>\n",
       "      <td>Sales</td>\n",
       "      <td>56972.506658</td>\n",
       "    </tr>\n",
       "    <tr>\n",
       "      <th>88</th>\n",
       "      <td>88</td>\n",
       "      <td>Sales</td>\n",
       "      <td>51821.438777</td>\n",
       "    </tr>\n",
       "    <tr>\n",
       "      <th>89</th>\n",
       "      <td>89</td>\n",
       "      <td>Sales</td>\n",
       "      <td>58079.604599</td>\n",
       "    </tr>\n",
       "  </tbody>\n",
       "</table>\n",
       "<p>90 rows × 3 columns</p>\n",
       "</div>"
      ],
      "text/plain": [
       "    Unnamed: 0 Department        Salary\n",
       "0            0  Marketing  52483.570765\n",
       "1            1  Marketing  49308.678494\n",
       "2            2  Marketing  53238.442691\n",
       "3            3  Marketing  57615.149282\n",
       "4            4  Marketing  48829.233126\n",
       "..         ...        ...           ...\n",
       "85          85      Sales  51989.457738\n",
       "86          86      Sales  60492.412706\n",
       "87          87      Sales  56972.506658\n",
       "88          88      Sales  51821.438777\n",
       "89          89      Sales  58079.604599\n",
       "\n",
       "[90 rows x 3 columns]"
      ]
     },
     "execution_count": 3,
     "metadata": {},
     "output_type": "execute_result"
    }
   ],
   "source": [
    "odjeli_place"
   ]
  },
  {
   "cell_type": "markdown",
   "id": "c8d2b07a-b88b-4ad7-aa1a-e38a99401c80",
   "metadata": {},
   "source": [
    "## Ključno pitanje glasi - hoćemo li u budućim analizama uključiti Department kao varijablu koja utječe na plaću?"
   ]
  },
  {
   "cell_type": "code",
   "execution_count": 4,
   "id": "5b95bf63-6079-4e6d-8352-f44770975d35",
   "metadata": {},
   "outputs": [
    {
     "name": "stdout",
     "output_type": "stream",
     "text": [
      "<class 'pandas.core.frame.DataFrame'>\n",
      "RangeIndex: 90 entries, 0 to 89\n",
      "Data columns (total 3 columns):\n",
      " #   Column      Non-Null Count  Dtype  \n",
      "---  ------      --------------  -----  \n",
      " 0   Unnamed: 0  90 non-null     int64  \n",
      " 1   Department  90 non-null     object \n",
      " 2   Salary      90 non-null     float64\n",
      "dtypes: float64(1), int64(1), object(1)\n",
      "memory usage: 2.2+ KB\n"
     ]
    }
   ],
   "source": [
    "odjeli_place.info()"
   ]
  },
  {
   "cell_type": "code",
   "execution_count": 5,
   "id": "e213d0d4-af08-4aa6-b8c5-878e9c27a602",
   "metadata": {},
   "outputs": [
    {
     "data": {
      "text/plain": [
       "Department\n",
       "Marketing    30\n",
       "Logistics    30\n",
       "Sales        30\n",
       "Name: count, dtype: int64"
      ]
     },
     "execution_count": 5,
     "metadata": {},
     "output_type": "execute_result"
    }
   ],
   "source": [
    "odjeli_place.Department.value_counts()"
   ]
  },
  {
   "cell_type": "code",
   "execution_count": 6,
   "id": "6b23ed48-5b6c-4256-9704-4fb2d813be15",
   "metadata": {},
   "outputs": [
    {
     "data": {
      "text/plain": [
       "Department\n",
       "Logistics    44454.768884\n",
       "Marketing    49059.265521\n",
       "Sales        55077.308635\n",
       "Name: Salary, dtype: float64"
      ]
     },
     "execution_count": 6,
     "metadata": {},
     "output_type": "execute_result"
    }
   ],
   "source": [
    "odjeli_place_department = odjeli_place.groupby (\"Department\")\n",
    "odjeli_place_department [\"Salary\"].mean()"
   ]
  },
  {
   "cell_type": "code",
   "execution_count": 7,
   "id": "a23b23c3-a1eb-443e-8dce-67e420bd18a9",
   "metadata": {},
   "outputs": [
    {
     "data": {
      "text/plain": [
       "(array([ 3.,  8., 11., 12., 18., 12., 10.,  8.,  4.,  4.]),\n",
       " array([36181.48444254, 39002.12219178, 41822.75994101, 44643.39769024,\n",
       "        47464.03543948, 50284.67318871, 53105.31093795, 55925.94868718,\n",
       "        58746.58643642, 61567.22418565, 64387.86193488]),\n",
       " <BarContainer object of 10 artists>)"
      ]
     },
     "execution_count": 7,
     "metadata": {},
     "output_type": "execute_result"
    },
    {
     "data": {
      "image/png": "[encoded data removed]",
      "text/plain": [
       "<Figure size 640x480 with 1 Axes>"
      ]
     },
     "metadata": {},
     "output_type": "display_data"
    }
   ],
   "source": [
    "plt.hist (odjeli_place.Salary)"
   ]
  },
  {
   "cell_type": "code",
   "execution_count": 8,
   "id": "097a86fb-2df4-4782-a317-4775c2add02f",
   "metadata": {},
   "outputs": [
    {
     "data": {
      "text/html": [
       "<div>\n",
       "<style scoped>\n",
       "    .dataframe tbody tr th:only-of-type {\n",
       "        vertical-align: middle;\n",
       "    }\n",
       "\n",
       "    .dataframe tbody tr th {\n",
       "        vertical-align: top;\n",
       "    }\n",
       "\n",
       "    .dataframe thead th {\n",
       "        text-align: right;\n",
       "    }\n",
       "</style>\n",
       "<table border=\"1\" class=\"dataframe\">\n",
       "  <thead>\n",
       "    <tr style=\"text-align: right;\">\n",
       "      <th></th>\n",
       "      <th>Unnamed: 0</th>\n",
       "      <th>Salary</th>\n",
       "    </tr>\n",
       "  </thead>\n",
       "  <tbody>\n",
       "    <tr>\n",
       "      <th>Unnamed: 0</th>\n",
       "      <td>1.00000</td>\n",
       "      <td>0.34113</td>\n",
       "    </tr>\n",
       "    <tr>\n",
       "      <th>Salary</th>\n",
       "      <td>0.34113</td>\n",
       "      <td>1.00000</td>\n",
       "    </tr>\n",
       "  </tbody>\n",
       "</table>\n",
       "</div>"
      ],
      "text/plain": [
       "            Unnamed: 0   Salary\n",
       "Unnamed: 0     1.00000  0.34113\n",
       "Salary         0.34113  1.00000"
      ]
     },
     "execution_count": 8,
     "metadata": {},
     "output_type": "execute_result"
    }
   ],
   "source": [
    "odjeli_place.corr(numeric_only = True)"
   ]
  },
  {
   "cell_type": "markdown",
   "id": "ebe6c48a-bec9-484a-b636-2a5faba3c0a0",
   "metadata": {},
   "source": [
    "gornji kod nam govori da postoje različiti prosjeci plaća medju odjelima\n",
    "\n",
    "zanima nas je li to čista slučajnost (eto tako ispao uzorak) ili postoji neka poveznica - korelacija nam ništa ne govori"
   ]
  },
  {
   "cell_type": "code",
   "execution_count": 9,
   "id": "c2cba57b-6b94-4cea-811b-0b80a1053ef6",
   "metadata": {},
   "outputs": [],
   "source": [
    "marketing = odjeli_place[odjeli_place['Department'] == 'Marketing']['Salary']\n",
    "logistics = odjeli_place[odjeli_place['Department'] == 'Logistics']['Salary']\n",
    "sales = odjeli_place[odjeli_place['Department'] == 'Sales']['Salary']"
   ]
  },
  {
   "cell_type": "markdown",
   "id": "61f5874f-563c-4bd7-b831-083cd536deb4",
   "metadata": {},
   "source": [
    "### Krećeno s Anova analizom\n",
    "\n",
    "Grupirali smo plaće u tri zasebne varijable, izdvaja u varijablu marketing samo odjel marketing i njihove plaće, u varijablu logistics samo odjel logistike i njihove plaće itd\n",
    "\n",
    "Napomena: radimo s grupiranim podacima pa se ne moramo zamarati s pretvaranjem kategoričkih podataka u brojčane"
   ]
  },
  {
   "cell_type": "code",
   "execution_count": 10,
   "id": "06948def-2f9c-4755-a23d-e1b616dd41ab",
   "metadata": {},
   "outputs": [
    {
     "data": {
      "text/plain": [
       "30    42292.320245\n",
       "31    53335.251830\n",
       "32    44939.262489\n",
       "33    40240.300820\n",
       "34    48701.452104\n",
       "35    39506.203575\n",
       "36    45939.886178\n",
       "37    36181.484443\n",
       "38    39023.162780\n",
       "39    45885.875561\n",
       "40    48323.099610\n",
       "41    45771.157265\n",
       "42    44479.582729\n",
       "43    43645.033370\n",
       "44    38346.651043\n",
       "45    41760.701062\n",
       "46    42927.125531\n",
       "47    49757.050018\n",
       "48    46546.282303\n",
       "49    37066.319301\n",
       "50    46458.377862\n",
       "51    43267.129738\n",
       "52    41953.850999\n",
       "53    47752.543300\n",
       "54    49639.497851\n",
       "55    49190.760536\n",
       "56    41223.521145\n",
       "57    43608.544309\n",
       "58    46490.685441\n",
       "59    49389.953072\n",
       "Name: Salary, dtype: float64"
      ]
     },
     "execution_count": 10,
     "metadata": {},
     "output_type": "execute_result"
    }
   ],
   "source": [
    "logistics"
   ]
  },
  {
   "cell_type": "code",
   "execution_count": 11,
   "id": "49bb0e2d-a01c-4e77-93f7-df52af834771",
   "metadata": {},
   "outputs": [
    {
     "data": {
      "text/plain": [
       "0     52483.570765\n",
       "1     49308.678494\n",
       "2     53238.442691\n",
       "3     57615.149282\n",
       "4     48829.233126\n",
       "5     48829.315215\n",
       "6     57896.064078\n",
       "7     53837.173646\n",
       "8     47652.628070\n",
       "9     52712.800218\n",
       "10    47682.911536\n",
       "11    47671.351232\n",
       "12    51209.811358\n",
       "13    40433.598777\n",
       "14    41375.410837\n",
       "15    47188.562354\n",
       "16    44935.844398\n",
       "17    51571.236663\n",
       "18    45459.879622\n",
       "19    42938.481493\n",
       "20    57328.243845\n",
       "21    48871.118498\n",
       "22    50337.641023\n",
       "23    42876.259069\n",
       "24    47278.086377\n",
       "25    50554.612949\n",
       "26    44245.032113\n",
       "27    51878.490092\n",
       "28    46996.806550\n",
       "29    48541.531251\n",
       "Name: Salary, dtype: float64"
      ]
     },
     "execution_count": 11,
     "metadata": {},
     "output_type": "execute_result"
    }
   ],
   "source": [
    "marketing"
   ]
  },
  {
   "cell_type": "code",
   "execution_count": 12,
   "id": "076368f8-fa33-4ca9-8a26-cde9c107a1d5",
   "metadata": {},
   "outputs": [],
   "source": [
    "F_statistic, p_value = stats.f_oneway(marketing, logistics, sales)"
   ]
  },
  {
   "cell_type": "markdown",
   "id": "81bdfa36-e9a8-4378-a651-2910116f3d98",
   "metadata": {},
   "source": [
    "Korištenjem metode Anova, radimo dva statistička izračuna i dobivamo dvije varijable, F_statistics i p_value"
   ]
  },
  {
   "cell_type": "code",
   "execution_count": 13,
   "id": "32775f8e-bebd-4afe-baec-c9098fdb8f50",
   "metadata": {},
   "outputs": [
    {
     "data": {
      "text/plain": [
       "np.float64(34.873805599251384)"
      ]
     },
     "execution_count": 13,
     "metadata": {},
     "output_type": "execute_result"
    }
   ],
   "source": [
    "F_statistic"
   ]
  },
  {
   "cell_type": "code",
   "execution_count": 14,
   "id": "441a2611-58e6-4b93-b789-78708297a51e",
   "metadata": {},
   "outputs": [
    {
     "data": {
      "text/plain": [
       "np.float64(7.548262426790077e-12)"
      ]
     },
     "execution_count": 14,
     "metadata": {},
     "output_type": "execute_result"
    }
   ],
   "source": [
    "p_value"
   ]
  },
  {
   "cell_type": "markdown",
   "id": "1e35aacd-cc25-4f24-849d-4400e1cdacb6",
   "metadata": {},
   "source": [
    "Kako protumačiti vrijednost F_statistic vrijednosti:\n",
    "\n",
    "Nikad ne može biti manja od nule\n",
    "\n",
    "F_statistic = 0 : nema razlike u varijanci između grupa, to su iste grupe doslovce po svojim obilježjima\n",
    "\n",
    "F_statistic između 0 i 1 : grupe su slične\n",
    "\n",
    "F_statistic > 1 (najčešće do 10) : postoje značajne razlike između grupa\n",
    "\n",
    "U ovom našem primjeru postoje značajne razlike između grupnih prosjeka (34,87)\n",
    "\n",
    "Velika F-statistika (kao što je 34.87) znači da su razlike između odjela mnogo veće nego razlike unutar odjela.\n",
    "\n",
    "p_value nam pomaže odrediti radi li se o slučajnom događaju ili o trendu / pravilu\n",
    "\n",
    "Kriterij je da p_value mora biti manja od 0,05\n",
    "\n",
    "U našem slučaju p_value iznosi 0,754 * 10 na -12 što je definitivno manje od 0,05 ---> ova situacija nije slučajna, statistički je značajna i možemo potvrditi F_statistics"
   ]
  },
  {
   "cell_type": "markdown",
   "id": "b23cfc9f-defe-4327-b727-79bfd5d37e42",
   "metadata": {},
   "source": [
    "### Hoćemo li u budućim analizama uključiti Department kao varijablu koja utječe na plaću?\n",
    "### Da, yes, oui, obavezno!"
   ]
  },
  {
   "cell_type": "markdown",
   "id": "34b26c92-cf23-4343-9284-dd8a120292fc",
   "metadata": {},
   "source": [
    "# Zadatak 1"
   ]
  },
  {
   "cell_type": "code",
   "execution_count": 15,
   "id": "8a570c0a-a5ee-4600-9b8e-e3cdcaa63e6d",
   "metadata": {},
   "outputs": [],
   "source": [
    "import pandas as pd\n",
    "import numpy as np\n",
    "from scipy import stats"
   ]
  },
  {
   "cell_type": "markdown",
   "id": "f6d4ef24-eb8a-4a49-8d9e-1712b92a354e",
   "metadata": {},
   "source": [
    "Postoje li razlike između ove dvije grupe (po spolu) u odnosu na frekvenciju vežbanja?"
   ]
  },
  {
   "cell_type": "code",
   "execution_count": 16,
   "id": "0abb296b-0b3f-48e2-a21d-8ed816067e90",
   "metadata": {},
   "outputs": [
    {
     "data": {
      "text/html": [
       "<div>\n",
       "<style scoped>\n",
       "    .dataframe tbody tr th:only-of-type {\n",
       "        vertical-align: middle;\n",
       "    }\n",
       "\n",
       "    .dataframe tbody tr th {\n",
       "        vertical-align: top;\n",
       "    }\n",
       "\n",
       "    .dataframe thead th {\n",
       "        text-align: right;\n",
       "    }\n",
       "</style>\n",
       "<table border=\"1\" class=\"dataframe\">\n",
       "  <thead>\n",
       "    <tr style=\"text-align: right;\">\n",
       "      <th></th>\n",
       "      <th>Unnamed: 0</th>\n",
       "      <th>Gender</th>\n",
       "      <th>ExerciseFrequency</th>\n",
       "    </tr>\n",
       "  </thead>\n",
       "  <tbody>\n",
       "    <tr>\n",
       "      <th>0</th>\n",
       "      <td>0</td>\n",
       "      <td>Male</td>\n",
       "      <td>6.745071</td>\n",
       "    </tr>\n",
       "    <tr>\n",
       "      <th>1</th>\n",
       "      <td>1</td>\n",
       "      <td>Male</td>\n",
       "      <td>5.792604</td>\n",
       "    </tr>\n",
       "    <tr>\n",
       "      <th>2</th>\n",
       "      <td>2</td>\n",
       "      <td>Male</td>\n",
       "      <td>6.971533</td>\n",
       "    </tr>\n",
       "    <tr>\n",
       "      <th>3</th>\n",
       "      <td>3</td>\n",
       "      <td>Male</td>\n",
       "      <td>8.284545</td>\n",
       "    </tr>\n",
       "    <tr>\n",
       "      <th>4</th>\n",
       "      <td>4</td>\n",
       "      <td>Male</td>\n",
       "      <td>5.648770</td>\n",
       "    </tr>\n",
       "    <tr>\n",
       "      <th>...</th>\n",
       "      <td>...</td>\n",
       "      <td>...</td>\n",
       "      <td>...</td>\n",
       "    </tr>\n",
       "    <tr>\n",
       "      <th>195</th>\n",
       "      <td>195</td>\n",
       "      <td>Female</td>\n",
       "      <td>6.077976</td>\n",
       "    </tr>\n",
       "    <tr>\n",
       "      <th>196</th>\n",
       "      <td>196</td>\n",
       "      <td>Female</td>\n",
       "      <td>4.174214</td>\n",
       "    </tr>\n",
       "    <tr>\n",
       "      <th>197</th>\n",
       "      <td>197</td>\n",
       "      <td>Female</td>\n",
       "      <td>5.730588</td>\n",
       "    </tr>\n",
       "    <tr>\n",
       "      <th>198</th>\n",
       "      <td>198</td>\n",
       "      <td>Female</td>\n",
       "      <td>5.587313</td>\n",
       "    </tr>\n",
       "    <tr>\n",
       "      <th>199</th>\n",
       "      <td>199</td>\n",
       "      <td>Female</td>\n",
       "      <td>3.785545</td>\n",
       "    </tr>\n",
       "  </tbody>\n",
       "</table>\n",
       "<p>200 rows × 3 columns</p>\n",
       "</div>"
      ],
      "text/plain": [
       "     Unnamed: 0  Gender  ExerciseFrequency\n",
       "0             0    Male           6.745071\n",
       "1             1    Male           5.792604\n",
       "2             2    Male           6.971533\n",
       "3             3    Male           8.284545\n",
       "4             4    Male           5.648770\n",
       "..          ...     ...                ...\n",
       "195         195  Female           6.077976\n",
       "196         196  Female           4.174214\n",
       "197         197  Female           5.730588\n",
       "198         198  Female           5.587313\n",
       "199         199  Female           3.785545\n",
       "\n",
       "[200 rows x 3 columns]"
      ]
     },
     "execution_count": 16,
     "metadata": {},
     "output_type": "execute_result"
    }
   ],
   "source": [
    "gender_vjezba = pd.read_csv (\"gender_vjezba.csv\")\n",
    "gender_vjezba"
   ]
  },
  {
   "cell_type": "code",
   "execution_count": 17,
   "id": "5562e91e-2b67-43e6-a94f-a844c54e4a09",
   "metadata": {},
   "outputs": [
    {
     "data": {
      "text/plain": [
       "Gender\n",
       "Female    5.533457\n",
       "Male      5.844230\n",
       "Name: ExerciseFrequency, dtype: float64"
      ]
     },
     "execution_count": 17,
     "metadata": {},
     "output_type": "execute_result"
    }
   ],
   "source": [
    "gendspol = gender_vjezba.groupby (\"Gender\")\n",
    "gendspol [\"ExerciseFrequency\"].mean()"
   ]
  },
  {
   "cell_type": "code",
   "execution_count": 18,
   "id": "9248f4d4-3b30-45b9-aa9f-3f5ab87f02b6",
   "metadata": {},
   "outputs": [],
   "source": [
    "male = gender_vjezba[gender_vjezba['Gender'] == 'Male']['ExerciseFrequency']\n",
    "female = gender_vjezba[gender_vjezba['Gender'] == 'Female']['ExerciseFrequency']"
   ]
  },
  {
   "cell_type": "code",
   "execution_count": 19,
   "id": "982b7355-64ff-4ccd-add1-a8f5f670c7b5",
   "metadata": {},
   "outputs": [],
   "source": [
    "F_statistic, p_value = stats.f_oneway(male, female)"
   ]
  },
  {
   "cell_type": "code",
   "execution_count": 20,
   "id": "4994ffea-2252-43a7-a8ec-10875adc873d",
   "metadata": {},
   "outputs": [
    {
     "data": {
      "text/plain": [
       "np.float64(2.4750968599505234)"
      ]
     },
     "execution_count": 20,
     "metadata": {},
     "output_type": "execute_result"
    }
   ],
   "source": [
    "F_statistic"
   ]
  },
  {
   "cell_type": "code",
   "execution_count": 21,
   "id": "b92dacb1-167d-4978-9401-809589498e0a",
   "metadata": {},
   "outputs": [
    {
     "data": {
      "text/plain": [
       "np.float64(0.11725885247920977)"
      ]
     },
     "execution_count": 21,
     "metadata": {},
     "output_type": "execute_result"
    }
   ],
   "source": [
    "p_value"
   ]
  },
  {
   "cell_type": "code",
   "execution_count": null,
   "id": "937af3b1-67bb-41af-9ddf-612e1a5532ec",
   "metadata": {},
   "outputs": [],
   "source": []
  }
 ],
 "metadata": {
  "kernelspec": {
   "display_name": "Python 3 (ipykernel)",
   "language": "python",
   "name": "python3"
  },
  "language_info": {
   "codemirror_mode": {
    "name": "ipython",
    "version": 3
   },
   "file_extension": ".py",
   "mimetype": "text/x-python",
   "name": "python",
   "nbconvert_exporter": "python",
   "pygments_lexer": "ipython3",
   "version": "3.11.2"
  }
 },
 "nbformat": 4,
 "nbformat_minor": 5
}
