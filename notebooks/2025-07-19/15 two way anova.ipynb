{
 "cells": [
  {
   "cell_type": "markdown",
   "id": "256a5792-a98a-467b-a426-e717c0f01e21",
   "metadata": {},
   "source": [
    "# Two way Anova\n",
    "\n",
    "Kategorička nezavisna varijabla Department ((Marketing, Logistics, Sales)\n",
    "\n",
    "Kategorička nezavisna varijabla Experience Level (Junior, Mid, Senior)\n",
    "\n",
    "Numerička zavisna varijabla Sales\n",
    "\n",
    "Također zanima nas postoji li interakcija izmedju dvije nezavisne varjable, odnosno varira li utjecaj odjela na plaću ovisno o iskustvu"
   ]
  },
  {
   "cell_type": "code",
   "execution_count": 1,
   "id": "38ba95af-d673-4ab6-a48c-4086406ef145",
   "metadata": {},
   "outputs": [],
   "source": [
    "import pandas as pd\n",
    "import numpy as np\n",
    "import statsmodels.api as sm\n",
    "from statsmodels.formula.api import ols"
   ]
  },
  {
   "cell_type": "code",
   "execution_count": 2,
   "id": "a20e7b4e-a5de-46b2-ab89-c62840c54fdc",
   "metadata": {},
   "outputs": [],
   "source": [
    "np.random.seed(42)"
   ]
  },
  {
   "cell_type": "code",
   "execution_count": 3,
   "id": "2df324f3-e539-40b0-a26e-70a950f45d0f",
   "metadata": {},
   "outputs": [],
   "source": [
    "departments = np.random.choice(['Marketing', 'Logistics', 'Sales'], 50)\n",
    "experience_levels = np.random.choice(['Junior', 'Mid', 'Senior'], 50)"
   ]
  },
  {
   "cell_type": "code",
   "execution_count": 4,
   "id": "0cdfe7a2-7b79-446d-91f4-5f4cbbc174d0",
   "metadata": {},
   "outputs": [],
   "source": [
    "salary = np.random.normal(loc=50000, scale=5000, size=50) + \\\n",
    "         (np.where(departments == 'Marketing', 2000, 0)) + \\\n",
    "         (np.where(departments == 'Sales', -3000, 0)) + \\\n",
    "         (np.where(experience_levels == 'Senior', 5000, 0)) + \\\n",
    "         (np.where(experience_levels == 'Junior', -5000, 0))"
   ]
  },
  {
   "cell_type": "code",
   "execution_count": 5,
   "id": "ab81784f-8040-4af6-80ad-a5dc3ad41ffa",
   "metadata": {},
   "outputs": [],
   "source": [
    "df = pd.DataFrame({\n",
    "    'Department': departments,\n",
    "    'Experience': experience_levels,\n",
    "    'Salary': salary\n",
    "})"
   ]
  },
  {
   "cell_type": "code",
   "execution_count": 6,
   "id": "7ad9dd47-6d85-438c-ba75-deb33348af26",
   "metadata": {},
   "outputs": [
    {
     "data": {
      "text/html": [
       "<div>\n",
       "<style scoped>\n",
       "    .dataframe tbody tr th:only-of-type {\n",
       "        vertical-align: middle;\n",
       "    }\n",
       "\n",
       "    .dataframe tbody tr th {\n",
       "        vertical-align: top;\n",
       "    }\n",
       "\n",
       "    .dataframe thead th {\n",
       "        text-align: right;\n",
       "    }\n",
       "</style>\n",
       "<table border=\"1\" class=\"dataframe\">\n",
       "  <thead>\n",
       "    <tr style=\"text-align: right;\">\n",
       "      <th></th>\n",
       "      <th>Department</th>\n",
       "      <th>Experience</th>\n",
       "      <th>Salary</th>\n",
       "    </tr>\n",
       "  </thead>\n",
       "  <tbody>\n",
       "    <tr>\n",
       "      <th>0</th>\n",
       "      <td>Sales</td>\n",
       "      <td>Mid</td>\n",
       "      <td>49910.613974</td>\n",
       "    </tr>\n",
       "    <tr>\n",
       "      <th>1</th>\n",
       "      <td>Marketing</td>\n",
       "      <td>Junior</td>\n",
       "      <td>51438.742298</td>\n",
       "    </tr>\n",
       "    <tr>\n",
       "      <th>2</th>\n",
       "      <td>Sales</td>\n",
       "      <td>Mid</td>\n",
       "      <td>51471.661651</td>\n",
       "    </tr>\n",
       "    <tr>\n",
       "      <th>3</th>\n",
       "      <td>Sales</td>\n",
       "      <td>Junior</td>\n",
       "      <td>45774.988986</td>\n",
       "    </tr>\n",
       "    <tr>\n",
       "      <th>4</th>\n",
       "      <td>Marketing</td>\n",
       "      <td>Mid</td>\n",
       "      <td>50964.170549</td>\n",
       "    </tr>\n",
       "  </tbody>\n",
       "</table>\n",
       "</div>"
      ],
      "text/plain": [
       "  Department Experience        Salary\n",
       "0      Sales        Mid  49910.613974\n",
       "1  Marketing     Junior  51438.742298\n",
       "2      Sales        Mid  51471.661651\n",
       "3      Sales     Junior  45774.988986\n",
       "4  Marketing        Mid  50964.170549"
      ]
     },
     "execution_count": 6,
     "metadata": {},
     "output_type": "execute_result"
    }
   ],
   "source": [
    "df.head()"
   ]
  },
  {
   "cell_type": "code",
   "execution_count": 7,
   "id": "00f2048e-cd71-4bef-9758-d7c2dc84eb85",
   "metadata": {},
   "outputs": [],
   "source": [
    "df_depart=df.groupby(\"Department\")"
   ]
  },
  {
   "cell_type": "code",
   "execution_count": 8,
   "id": "dda1f533-a7a2-42ad-9b6f-3afcdc7dc633",
   "metadata": {},
   "outputs": [
    {
     "data": {
      "text/plain": [
       "Department\n",
       "Logistics    48198.185959\n",
       "Marketing    54369.758458\n",
       "Sales        46454.917331\n",
       "Name: Salary, dtype: float64"
      ]
     },
     "execution_count": 8,
     "metadata": {},
     "output_type": "execute_result"
    }
   ],
   "source": [
    "df_depart['Salary'].mean()"
   ]
  },
  {
   "cell_type": "code",
   "execution_count": 9,
   "id": "972c6096-5df1-4dce-b37f-fcc6aadbddaa",
   "metadata": {},
   "outputs": [],
   "source": [
    "model = ols('Salary ~ C(Department) + C(Experience) + C(Department):C(Experience)', data=df).fit()"
   ]
  },
  {
   "cell_type": "code",
   "execution_count": 10,
   "id": "eb85aa6e-d1ca-4e62-b1bc-afea124d1613",
   "metadata": {},
   "outputs": [],
   "source": [
    "anova_table = sm.stats.anova_lm(model, typ=2)"
   ]
  },
  {
   "cell_type": "code",
   "execution_count": 11,
   "id": "9bed579b-3e1a-4be8-9cb9-4b85ca25a98b",
   "metadata": {},
   "outputs": [
    {
     "data": {
      "text/html": [
       "<div>\n",
       "<style scoped>\n",
       "    .dataframe tbody tr th:only-of-type {\n",
       "        vertical-align: middle;\n",
       "    }\n",
       "\n",
       "    .dataframe tbody tr th {\n",
       "        vertical-align: top;\n",
       "    }\n",
       "\n",
       "    .dataframe thead th {\n",
       "        text-align: right;\n",
       "    }\n",
       "</style>\n",
       "<table border=\"1\" class=\"dataframe\">\n",
       "  <thead>\n",
       "    <tr style=\"text-align: right;\">\n",
       "      <th></th>\n",
       "      <th>sum_sq</th>\n",
       "      <th>df</th>\n",
       "      <th>F</th>\n",
       "      <th>PR(&gt;F)</th>\n",
       "    </tr>\n",
       "  </thead>\n",
       "  <tbody>\n",
       "    <tr>\n",
       "      <th>C(Department)</th>\n",
       "      <td>3.544608e+08</td>\n",
       "      <td>2.0</td>\n",
       "      <td>7.097703</td>\n",
       "      <td>0.002255</td>\n",
       "    </tr>\n",
       "    <tr>\n",
       "      <th>C(Experience)</th>\n",
       "      <td>5.870328e+08</td>\n",
       "      <td>2.0</td>\n",
       "      <td>11.754713</td>\n",
       "      <td>0.000092</td>\n",
       "    </tr>\n",
       "    <tr>\n",
       "      <th>C(Department):C(Experience)</th>\n",
       "      <td>1.016781e+08</td>\n",
       "      <td>4.0</td>\n",
       "      <td>1.017999</td>\n",
       "      <td>0.409391</td>\n",
       "    </tr>\n",
       "    <tr>\n",
       "      <th>Residual</th>\n",
       "      <td>1.023774e+09</td>\n",
       "      <td>41.0</td>\n",
       "      <td>NaN</td>\n",
       "      <td>NaN</td>\n",
       "    </tr>\n",
       "  </tbody>\n",
       "</table>\n",
       "</div>"
      ],
      "text/plain": [
       "                                   sum_sq    df          F    PR(>F)\n",
       "C(Department)                3.544608e+08   2.0   7.097703  0.002255\n",
       "C(Experience)                5.870328e+08   2.0  11.754713  0.000092\n",
       "C(Department):C(Experience)  1.016781e+08   4.0   1.017999  0.409391\n",
       "Residual                     1.023774e+09  41.0        NaN       NaN"
      ]
     },
     "execution_count": 11,
     "metadata": {},
     "output_type": "execute_result"
    }
   ],
   "source": [
    "anova_table"
   ]
  },
  {
   "cell_type": "markdown",
   "id": "59cb65e0-730e-443b-9b0e-8b52e69c737f",
   "metadata": {},
   "source": [
    "Za odjel F-statistics iznosi 7.097703, a P_value iznosi 0.002255 = značajan utjecaj odjela na iznos plaće\n",
    "postoji statistički značajna razlika u prosječnim plaćama između različitih odjela, neovisno o razini iskustva\n",
    "\n",
    "Za iskustvo F-statistics iznosi 11.754713, a P_value iznosi 0.000092 = značajan utjecaj iskustva na iznos plaće\n",
    "\n",
    "postoji statistički značajna razlika u prosječnim plaćama između različitih razina iskustva (Junior, Mid, Senior), neovisno o odjelu¶\n",
    "\n",
    "Odjel vs iskustvo F-statistics iznosi 1.017999, a P_value iznosi 0.409391 = nemamo značajan utjecaj iskustva na odjel¶\n",
    "\n",
    "Što to znači? To znači da efekt iskustva na plaću je relativno sličan u svim odjelima, i obrnuto, efekt odjela na plaću je relativno \n",
    "sličan za sve razine iskustva. Drugim riječima, ne postoji poseban \"sinergijski\" ili \"antagonistički\" efekt gdje bi se utjecaj iskustva na plaću dramatično mijenjao ovisno o odjelu (ili obrnuto).\n",
    "\n",
    "## \"Na temelju ove dvosmjerne ANOVA analize, možemo s visokom sigurnošću zaključiti da:\n",
    "- Odjel značajno utječe na iznos plaće. Postoje statistički značajne razlike u prosječnim plaćama između različitih odjela.\n",
    "- Razina iskustva značajno utječe na iznos plaće. Postoje statistički značajne razlike u prosječnim plaćama između Junior, Mid i Senior pozicija.\n",
    "- Nema značajne interakcije između odjela i iskustva. To znači da utjecaj iskustva na plaću je sličan u svim odjelima, i obrnuto. Nema specifičnih kombinacija odjela i iskustva koje bi rezultirale neočekivano visokim ili niskim plaćama izvan onoga što bi se očekivalo na temelju individualnih efekata odjela i iskustva.\n",
    "- U budućim analizama i modelima za predviđanje plaće, i 'Department' i 'Experience' su vrlo važne varijable koje treba uključiti, jer svaka od njih neovisno objašnjava značajan dio varijabilnosti u plaćama.\""
   ]
  }
 ],
 "metadata": {
  "kernelspec": {
   "display_name": "Python 3 (ipykernel)",
   "language": "python",
   "name": "python3"
  },
  "language_info": {
   "codemirror_mode": {
    "name": "ipython",
    "version": 3
   },
   "file_extension": ".py",
   "mimetype": "text/x-python",
   "name": "python",
   "nbconvert_exporter": "python",
   "pygments_lexer": "ipython3",
   "version": "3.12.9"
  }
 },
 "nbformat": 4,
 "nbformat_minor": 5
}
