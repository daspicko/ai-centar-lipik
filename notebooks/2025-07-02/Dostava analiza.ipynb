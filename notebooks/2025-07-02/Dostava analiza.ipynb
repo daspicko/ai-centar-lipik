{
 "cells": [
  {
   "cell_type": "code",
   "execution_count": 1,
   "id": "f7b8297f-ec44-4561-9910-5fee6913f5f1",
   "metadata": {},
   "outputs": [],
   "source": [
    "import pandas as pd\n",
    "import matplotlib.pyplot as plt\n",
    "import seaborn as sns"
   ]
  },
  {
   "cell_type": "code",
   "execution_count": 3,
   "id": "002a094b-b19e-4620-b64d-72d48e34d16c",
   "metadata": {},
   "outputs": [],
   "source": [
    "dostava = pd.read_excel(\"dostava.xlsx\")"
   ]
  },
  {
   "cell_type": "code",
   "execution_count": 4,
   "id": "53584a88-4e7d-4237-8a61-71e2b7dc1db6",
   "metadata": {},
   "outputs": [
    {
     "name": "stdout",
     "output_type": "stream",
     "text": [
      "<class 'pandas.core.frame.DataFrame'>\n",
      "RangeIndex: 10 entries, 0 to 9\n",
      "Data columns (total 4 columns):\n",
      " #   Column        Non-Null Count  Dtype  \n",
      "---  ------        --------------  -----  \n",
      " 0   Udaljenost    10 non-null     int64  \n",
      " 1   BrDostava     10 non-null     int64  \n",
      " 2   CijenaGoriva  10 non-null     float64\n",
      " 3   Vrijeme       10 non-null     float64\n",
      "dtypes: float64(2), int64(2)\n",
      "memory usage: 452.0 bytes\n"
     ]
    }
   ],
   "source": [
    "dostava.info()"
   ]
  },
  {
   "cell_type": "code",
   "execution_count": 7,
   "id": "f9023e57-a332-439c-8299-73478d775418",
   "metadata": {
    "scrolled": true
   },
   "outputs": [
    {
     "data": {
      "text/html": [
       "<div>\n",
       "<style scoped>\n",
       "    .dataframe tbody tr th:only-of-type {\n",
       "        vertical-align: middle;\n",
       "    }\n",
       "\n",
       "    .dataframe tbody tr th {\n",
       "        vertical-align: top;\n",
       "    }\n",
       "\n",
       "    .dataframe thead th {\n",
       "        text-align: right;\n",
       "    }\n",
       "</style>\n",
       "<table border=\"1\" class=\"dataframe\">\n",
       "  <thead>\n",
       "    <tr style=\"text-align: right;\">\n",
       "      <th></th>\n",
       "      <th>Udaljenost</th>\n",
       "      <th>BrDostava</th>\n",
       "      <th>CijenaGoriva</th>\n",
       "      <th>Vrijeme</th>\n",
       "    </tr>\n",
       "  </thead>\n",
       "  <tbody>\n",
       "    <tr>\n",
       "      <th>0</th>\n",
       "      <td>89</td>\n",
       "      <td>4</td>\n",
       "      <td>3.84</td>\n",
       "      <td>7.0</td>\n",
       "    </tr>\n",
       "    <tr>\n",
       "      <th>1</th>\n",
       "      <td>66</td>\n",
       "      <td>1</td>\n",
       "      <td>3.19</td>\n",
       "      <td>5.4</td>\n",
       "    </tr>\n",
       "    <tr>\n",
       "      <th>2</th>\n",
       "      <td>78</td>\n",
       "      <td>3</td>\n",
       "      <td>3.78</td>\n",
       "      <td>6.6</td>\n",
       "    </tr>\n",
       "    <tr>\n",
       "      <th>3</th>\n",
       "      <td>111</td>\n",
       "      <td>6</td>\n",
       "      <td>3.89</td>\n",
       "      <td>7.4</td>\n",
       "    </tr>\n",
       "    <tr>\n",
       "      <th>4</th>\n",
       "      <td>44</td>\n",
       "      <td>1</td>\n",
       "      <td>3.57</td>\n",
       "      <td>4.8</td>\n",
       "    </tr>\n",
       "    <tr>\n",
       "      <th>5</th>\n",
       "      <td>77</td>\n",
       "      <td>3</td>\n",
       "      <td>3.57</td>\n",
       "      <td>6.4</td>\n",
       "    </tr>\n",
       "    <tr>\n",
       "      <th>6</th>\n",
       "      <td>80</td>\n",
       "      <td>3</td>\n",
       "      <td>3.03</td>\n",
       "      <td>7.0</td>\n",
       "    </tr>\n",
       "    <tr>\n",
       "      <th>7</th>\n",
       "      <td>66</td>\n",
       "      <td>2</td>\n",
       "      <td>3.51</td>\n",
       "      <td>5.6</td>\n",
       "    </tr>\n",
       "    <tr>\n",
       "      <th>8</th>\n",
       "      <td>109</td>\n",
       "      <td>5</td>\n",
       "      <td>3.54</td>\n",
       "      <td>7.3</td>\n",
       "    </tr>\n",
       "    <tr>\n",
       "      <th>9</th>\n",
       "      <td>78</td>\n",
       "      <td>3</td>\n",
       "      <td>3.25</td>\n",
       "      <td>6.4</td>\n",
       "    </tr>\n",
       "  </tbody>\n",
       "</table>\n",
       "</div>"
      ],
      "text/plain": [
       "   Udaljenost  BrDostava  CijenaGoriva  Vrijeme\n",
       "0          89          4          3.84      7.0\n",
       "1          66          1          3.19      5.4\n",
       "2          78          3          3.78      6.6\n",
       "3         111          6          3.89      7.4\n",
       "4          44          1          3.57      4.8\n",
       "5          77          3          3.57      6.4\n",
       "6          80          3          3.03      7.0\n",
       "7          66          2          3.51      5.6\n",
       "8         109          5          3.54      7.3\n",
       "9          78          3          3.25      6.4"
      ]
     },
     "execution_count": 7,
     "metadata": {},
     "output_type": "execute_result"
    }
   ],
   "source": [
    "dostava"
   ]
  },
  {
   "cell_type": "code",
   "execution_count": 6,
   "id": "5d9b2a33-aeaf-498f-a57e-06a6473bd70f",
   "metadata": {},
   "outputs": [
    {
     "data": {
      "text/html": [
       "<div>\n",
       "<style scoped>\n",
       "    .dataframe tbody tr th:only-of-type {\n",
       "        vertical-align: middle;\n",
       "    }\n",
       "\n",
       "    .dataframe tbody tr th {\n",
       "        vertical-align: top;\n",
       "    }\n",
       "\n",
       "    .dataframe thead th {\n",
       "        text-align: right;\n",
       "    }\n",
       "</style>\n",
       "<table border=\"1\" class=\"dataframe\">\n",
       "  <thead>\n",
       "    <tr style=\"text-align: right;\">\n",
       "      <th></th>\n",
       "      <th>Udaljenost</th>\n",
       "      <th>BrDostava</th>\n",
       "      <th>CijenaGoriva</th>\n",
       "      <th>Vrijeme</th>\n",
       "    </tr>\n",
       "  </thead>\n",
       "  <tbody>\n",
       "    <tr>\n",
       "      <th>count</th>\n",
       "      <td>10.000000</td>\n",
       "      <td>10.000000</td>\n",
       "      <td>10.00000</td>\n",
       "      <td>10.000000</td>\n",
       "    </tr>\n",
       "    <tr>\n",
       "      <th>mean</th>\n",
       "      <td>79.800000</td>\n",
       "      <td>3.100000</td>\n",
       "      <td>3.51700</td>\n",
       "      <td>6.390000</td>\n",
       "    </tr>\n",
       "    <tr>\n",
       "      <th>std</th>\n",
       "      <td>19.965526</td>\n",
       "      <td>1.595131</td>\n",
       "      <td>0.28562</td>\n",
       "      <td>0.867243</td>\n",
       "    </tr>\n",
       "    <tr>\n",
       "      <th>min</th>\n",
       "      <td>44.000000</td>\n",
       "      <td>1.000000</td>\n",
       "      <td>3.03000</td>\n",
       "      <td>4.800000</td>\n",
       "    </tr>\n",
       "    <tr>\n",
       "      <th>25%</th>\n",
       "      <td>68.750000</td>\n",
       "      <td>2.250000</td>\n",
       "      <td>3.31500</td>\n",
       "      <td>5.800000</td>\n",
       "    </tr>\n",
       "    <tr>\n",
       "      <th>50%</th>\n",
       "      <td>78.000000</td>\n",
       "      <td>3.000000</td>\n",
       "      <td>3.55500</td>\n",
       "      <td>6.500000</td>\n",
       "    </tr>\n",
       "    <tr>\n",
       "      <th>75%</th>\n",
       "      <td>86.750000</td>\n",
       "      <td>3.750000</td>\n",
       "      <td>3.72750</td>\n",
       "      <td>7.000000</td>\n",
       "    </tr>\n",
       "    <tr>\n",
       "      <th>max</th>\n",
       "      <td>111.000000</td>\n",
       "      <td>6.000000</td>\n",
       "      <td>3.89000</td>\n",
       "      <td>7.400000</td>\n",
       "    </tr>\n",
       "  </tbody>\n",
       "</table>\n",
       "</div>"
      ],
      "text/plain": [
       "       Udaljenost  BrDostava  CijenaGoriva    Vrijeme\n",
       "count   10.000000  10.000000      10.00000  10.000000\n",
       "mean    79.800000   3.100000       3.51700   6.390000\n",
       "std     19.965526   1.595131       0.28562   0.867243\n",
       "min     44.000000   1.000000       3.03000   4.800000\n",
       "25%     68.750000   2.250000       3.31500   5.800000\n",
       "50%     78.000000   3.000000       3.55500   6.500000\n",
       "75%     86.750000   3.750000       3.72750   7.000000\n",
       "max    111.000000   6.000000       3.89000   7.400000"
      ]
     },
     "execution_count": 6,
     "metadata": {},
     "output_type": "execute_result"
    }
   ],
   "source": [
    "dostava.describe()"
   ]
  },
  {
   "cell_type": "code",
   "execution_count": 8,
   "id": "85c45e86-a57b-4568-a2e0-21d58c434f72",
   "metadata": {},
   "outputs": [
    {
     "data": {
      "text/html": [
       "<div>\n",
       "<style scoped>\n",
       "    .dataframe tbody tr th:only-of-type {\n",
       "        vertical-align: middle;\n",
       "    }\n",
       "\n",
       "    .dataframe tbody tr th {\n",
       "        vertical-align: top;\n",
       "    }\n",
       "\n",
       "    .dataframe thead th {\n",
       "        text-align: right;\n",
       "    }\n",
       "</style>\n",
       "<table border=\"1\" class=\"dataframe\">\n",
       "  <thead>\n",
       "    <tr style=\"text-align: right;\">\n",
       "      <th></th>\n",
       "      <th>Udaljenost</th>\n",
       "      <th>BrDostava</th>\n",
       "      <th>CijenaGoriva</th>\n",
       "      <th>Vrijeme</th>\n",
       "    </tr>\n",
       "  </thead>\n",
       "  <tbody>\n",
       "    <tr>\n",
       "      <th>Udaljenost</th>\n",
       "      <td>1.000000</td>\n",
       "      <td>0.956638</td>\n",
       "      <td>0.345927</td>\n",
       "      <td>0.929703</td>\n",
       "    </tr>\n",
       "    <tr>\n",
       "      <th>BrDostava</th>\n",
       "      <td>0.956638</td>\n",
       "      <td>1.000000</td>\n",
       "      <td>0.498242</td>\n",
       "      <td>0.916443</td>\n",
       "    </tr>\n",
       "    <tr>\n",
       "      <th>CijenaGoriva</th>\n",
       "      <td>0.345927</td>\n",
       "      <td>0.498242</td>\n",
       "      <td>1.000000</td>\n",
       "      <td>0.267212</td>\n",
       "    </tr>\n",
       "    <tr>\n",
       "      <th>Vrijeme</th>\n",
       "      <td>0.929703</td>\n",
       "      <td>0.916443</td>\n",
       "      <td>0.267212</td>\n",
       "      <td>1.000000</td>\n",
       "    </tr>\n",
       "  </tbody>\n",
       "</table>\n",
       "</div>"
      ],
      "text/plain": [
       "              Udaljenost  BrDostava  CijenaGoriva   Vrijeme\n",
       "Udaljenost      1.000000   0.956638      0.345927  0.929703\n",
       "BrDostava       0.956638   1.000000      0.498242  0.916443\n",
       "CijenaGoriva    0.345927   0.498242      1.000000  0.267212\n",
       "Vrijeme         0.929703   0.916443      0.267212  1.000000"
      ]
     },
     "execution_count": 8,
     "metadata": {},
     "output_type": "execute_result"
    }
   ],
   "source": [
    "dostava.corr()"
   ]
  },
  {
   "cell_type": "code",
   "execution_count": 9,
   "id": "d51115b0-c8a4-4886-9cfe-f0bdfdcb4110",
   "metadata": {},
   "outputs": [
    {
     "data": {
      "text/plain": [
       "<seaborn.axisgrid.PairGrid at 0x147d056d0>"
      ]
     },
     "execution_count": 9,
     "metadata": {},
     "output_type": "execute_result"
    },
    {
     "data": {
      "image/png": "[encoded data removed]",
      "text/plain": [
       "<Figure size 1000x1000 with 20 Axes>"
      ]
     },
     "metadata": {},
     "output_type": "display_data"
    }
   ],
   "source": [
    "sns.pairplot(dostava)"
   ]
  },
  {
   "cell_type": "markdown",
   "id": "6cc4b6dc-9cd3-43ff-ab96-6f318b0ff800",
   "metadata": {},
   "source": [
    "### Ukupna udaljenost koju je prešao dostavljač"
   ]
  },
  {
   "cell_type": "code",
   "execution_count": 37,
   "id": "c8dad547-dff6-487d-9def-3bc29fa63282",
   "metadata": {},
   "outputs": [
    {
     "data": {
      "text/plain": [
       "798"
      ]
     },
     "execution_count": 37,
     "metadata": {},
     "output_type": "execute_result"
    }
   ],
   "source": [
    "int(dostava['Udaljenost'].sum())"
   ]
  },
  {
   "cell_type": "markdown",
   "id": "68efa6f4-ce9d-4ef2-b66f-3adf835d19a7",
   "metadata": {},
   "source": [
    "### Broj dostava po turama"
   ]
  },
  {
   "cell_type": "code",
   "execution_count": 35,
   "id": "5234c6f7-bbb2-491b-8e96-58e6169657a5",
   "metadata": {
    "scrolled": true
   },
   "outputs": [
    {
     "data": {
      "text/plain": [
       "BrDostava  Vrijeme\n",
       "1          4.8        1\n",
       "           5.4        1\n",
       "2          5.6        1\n",
       "3          6.4        2\n",
       "           6.6        1\n",
       "           7.0        1\n",
       "4          7.0        1\n",
       "5          7.3        1\n",
       "6          7.4        1\n",
       "Name: count, dtype: int64"
      ]
     },
     "execution_count": 35,
     "metadata": {},
     "output_type": "execute_result"
    }
   ],
   "source": [
    "dostavabr = dostava.groupby (\"BrDostava\")\n",
    "dostavabr [\"Vrijeme\"].value_counts ()"
   ]
  },
  {
   "cell_type": "markdown",
   "id": "704abd0e-d3da-4956-8e36-95e155f3a0b3",
   "metadata": {},
   "source": [
    "Ukoliko tura sadrži više dostava, ukupno vrijeme dostave biti će duže."
   ]
  },
  {
   "cell_type": "markdown",
   "id": "e198cc5e-ea9f-489d-b53d-c2b65a65dcb8",
   "metadata": {},
   "source": [
    "### Štedljivija vožnja"
   ]
  },
  {
   "cell_type": "markdown",
   "id": "233fb434-7f8f-4bc2-9e1d-a6224a0c0970",
   "metadata": {},
   "source": [
    "Korelacija cijene goriva i vremena dostave iznosti 0.267212 po čemu možemo zaključiti da cijena goriva znatno ne utječe na vrijeme dostave."
   ]
  }
 ],
 "metadata": {
  "kernelspec": {
   "display_name": "Python 3 (ipykernel)",
   "language": "python",
   "name": "python3"
  },
  "language_info": {
   "codemirror_mode": {
    "name": "ipython",
    "version": 3
   },
   "file_extension": ".py",
   "mimetype": "text/x-python",
   "name": "python",
   "nbconvert_exporter": "python",
   "pygments_lexer": "ipython3",
   "version": "3.12.9"
  }
 },
 "nbformat": 4,
 "nbformat_minor": 5
}
