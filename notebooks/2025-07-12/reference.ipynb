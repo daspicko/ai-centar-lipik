{
 "cells": [
  {
   "cell_type": "markdown",
   "id": "6d20d41b-55e8-4119-b041-0a2f76423c16",
   "metadata": {},
   "source": [
    "# Reference notebook for learning Lipik AI"
   ]
  },
  {
   "cell_type": "code",
   "execution_count": null,
   "id": "aa3c7d5d-26a6-4c29-983c-1597344dc0fb",
   "metadata": {},
   "outputs": [],
   "source": [
    "import pandas as pd\n",
    "import matplotlib.pyplot as plt\n",
    "import seaborn as sns"
   ]
  },
  {
   "cell_type": "code",
   "execution_count": 6,
   "id": "325b8d48-0acb-435c-89a5-8e310af52e5e",
   "metadata": {},
   "outputs": [],
   "source": [
    "reference = pd.read_csv(\"reference.csv\")"
   ]
  },
  {
   "cell_type": "code",
   "execution_count": null,
   "id": "4a2aff88-59bb-4fdb-bddc-cd59dcc580b0",
   "metadata": {},
   "outputs": [],
   "source": [
    "reference.head()"
   ]
  },
  {
   "cell_type": "code",
   "execution_count": null,
   "id": "96a666e7-604c-4765-8e6d-309f4504f2cd",
   "metadata": {},
   "outputs": [],
   "source": [
    "reference.describe()"
   ]
  },
  {
   "cell_type": "code",
   "execution_count": null,
   "id": "5d4b9b7f-a4ed-44b5-8692-52d44323669c",
   "metadata": {},
   "outputs": [],
   "source": [
    "sns.barplot(x=reference['Ime'], y=reference['Broj bodova'])"
   ]
  }
 ],
 "metadata": {
  "kernelspec": {
   "display_name": "Python 3 (ipykernel)",
   "language": "python",
   "name": "python3"
  },
  "language_info": {
   "codemirror_mode": {
    "name": "ipython",
    "version": 3
   },
   "file_extension": ".py",
   "mimetype": "text/x-python",
   "name": "python",
   "nbconvert_exporter": "python",
   "pygments_lexer": "ipython3",
   "version": "3.12.7"
  }
 },
 "nbformat": 4,
 "nbformat_minor": 5
}
