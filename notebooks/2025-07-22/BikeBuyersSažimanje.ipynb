{
 "cells": [
  {
   "cell_type": "code",
   "execution_count": 1,
   "id": "58424a5d-5f68-4417-80f5-13ebbc501871",
   "metadata": {},
   "outputs": [],
   "source": [
    "import pandas as pd"
   ]
  },
  {
   "cell_type": "code",
   "execution_count": 2,
   "id": "63bfbd69-43c4-4f4c-b2b8-be7e8a050a71",
   "metadata": {},
   "outputs": [],
   "source": [
    "bikes = pd.read_csv(\"../../datasets/bike_buyers_clean.csv\")"
   ]
  },
  {
   "cell_type": "code",
   "execution_count": 3,
   "id": "1de8c4d0-f298-4467-8652-2eaaab8f983e",
   "metadata": {},
   "outputs": [
    {
     "name": "stdout",
     "output_type": "stream",
     "text": [
      "<class 'pandas.core.frame.DataFrame'>\n",
      "RangeIndex: 1000 entries, 0 to 999\n",
      "Data columns (total 13 columns):\n",
      " #   Column            Non-Null Count  Dtype \n",
      "---  ------            --------------  ----- \n",
      " 0   ID                1000 non-null   int64 \n",
      " 1   Marital Status    1000 non-null   object\n",
      " 2   Gender            1000 non-null   object\n",
      " 3   Income            1000 non-null   int64 \n",
      " 4   Children          1000 non-null   int64 \n",
      " 5   Education         1000 non-null   object\n",
      " 6   Occupation        1000 non-null   object\n",
      " 7   Home Owner        1000 non-null   object\n",
      " 8   Cars              1000 non-null   int64 \n",
      " 9   Commute Distance  1000 non-null   object\n",
      " 10  Region            1000 non-null   object\n",
      " 11  Age               1000 non-null   int64 \n",
      " 12  Purchased Bike    1000 non-null   object\n",
      "dtypes: int64(5), object(8)\n",
      "memory usage: 101.7+ KB\n"
     ]
    }
   ],
   "source": [
    "bikes.info()"
   ]
  },
  {
   "cell_type": "code",
   "execution_count": 4,
   "id": "7fd66978-378c-4735-9f2a-b882a15b8f51",
   "metadata": {},
   "outputs": [
    {
     "data": {
      "text/html": [
       "<div>\n",
       "<style scoped>\n",
       "    .dataframe tbody tr th:only-of-type {\n",
       "        vertical-align: middle;\n",
       "    }\n",
       "\n",
       "    .dataframe tbody tr th {\n",
       "        vertical-align: top;\n",
       "    }\n",
       "\n",
       "    .dataframe thead th {\n",
       "        text-align: right;\n",
       "    }\n",
       "</style>\n",
       "<table border=\"1\" class=\"dataframe\">\n",
       "  <thead>\n",
       "    <tr style=\"text-align: right;\">\n",
       "      <th></th>\n",
       "      <th>ID</th>\n",
       "      <th>Marital Status</th>\n",
       "      <th>Gender</th>\n",
       "      <th>Income</th>\n",
       "      <th>Children</th>\n",
       "      <th>Education</th>\n",
       "      <th>Occupation</th>\n",
       "      <th>Home Owner</th>\n",
       "      <th>Cars</th>\n",
       "      <th>Commute Distance</th>\n",
       "      <th>Region</th>\n",
       "      <th>Age</th>\n",
       "      <th>Purchased Bike</th>\n",
       "    </tr>\n",
       "  </thead>\n",
       "  <tbody>\n",
       "    <tr>\n",
       "      <th>0</th>\n",
       "      <td>12496</td>\n",
       "      <td>Married</td>\n",
       "      <td>Female</td>\n",
       "      <td>40000</td>\n",
       "      <td>1</td>\n",
       "      <td>Bachelors</td>\n",
       "      <td>Skilled Manual</td>\n",
       "      <td>Yes</td>\n",
       "      <td>0</td>\n",
       "      <td>0-1 Miles</td>\n",
       "      <td>Europe</td>\n",
       "      <td>42</td>\n",
       "      <td>No</td>\n",
       "    </tr>\n",
       "    <tr>\n",
       "      <th>1</th>\n",
       "      <td>24107</td>\n",
       "      <td>Married</td>\n",
       "      <td>Male</td>\n",
       "      <td>30000</td>\n",
       "      <td>3</td>\n",
       "      <td>Partial College</td>\n",
       "      <td>Clerical</td>\n",
       "      <td>Yes</td>\n",
       "      <td>1</td>\n",
       "      <td>0-1 Miles</td>\n",
       "      <td>Europe</td>\n",
       "      <td>43</td>\n",
       "      <td>No</td>\n",
       "    </tr>\n",
       "    <tr>\n",
       "      <th>2</th>\n",
       "      <td>14177</td>\n",
       "      <td>Married</td>\n",
       "      <td>Male</td>\n",
       "      <td>80000</td>\n",
       "      <td>5</td>\n",
       "      <td>Partial College</td>\n",
       "      <td>Professional</td>\n",
       "      <td>No</td>\n",
       "      <td>2</td>\n",
       "      <td>2-5 Miles</td>\n",
       "      <td>Europe</td>\n",
       "      <td>60</td>\n",
       "      <td>No</td>\n",
       "    </tr>\n",
       "    <tr>\n",
       "      <th>3</th>\n",
       "      <td>24381</td>\n",
       "      <td>Single</td>\n",
       "      <td>Male</td>\n",
       "      <td>70000</td>\n",
       "      <td>0</td>\n",
       "      <td>Bachelors</td>\n",
       "      <td>Professional</td>\n",
       "      <td>Yes</td>\n",
       "      <td>1</td>\n",
       "      <td>5-10 Miles</td>\n",
       "      <td>Pacific</td>\n",
       "      <td>41</td>\n",
       "      <td>Yes</td>\n",
       "    </tr>\n",
       "    <tr>\n",
       "      <th>4</th>\n",
       "      <td>25597</td>\n",
       "      <td>Single</td>\n",
       "      <td>Male</td>\n",
       "      <td>30000</td>\n",
       "      <td>0</td>\n",
       "      <td>Bachelors</td>\n",
       "      <td>Clerical</td>\n",
       "      <td>No</td>\n",
       "      <td>0</td>\n",
       "      <td>0-1 Miles</td>\n",
       "      <td>Europe</td>\n",
       "      <td>36</td>\n",
       "      <td>Yes</td>\n",
       "    </tr>\n",
       "  </tbody>\n",
       "</table>\n",
       "</div>"
      ],
      "text/plain": [
       "      ID Marital Status  Gender  Income  Children        Education  \\\n",
       "0  12496        Married  Female   40000         1        Bachelors   \n",
       "1  24107        Married    Male   30000         3  Partial College   \n",
       "2  14177        Married    Male   80000         5  Partial College   \n",
       "3  24381         Single    Male   70000         0        Bachelors   \n",
       "4  25597         Single    Male   30000         0        Bachelors   \n",
       "\n",
       "       Occupation Home Owner  Cars Commute Distance   Region  Age  \\\n",
       "0  Skilled Manual        Yes     0        0-1 Miles   Europe   42   \n",
       "1        Clerical        Yes     1        0-1 Miles   Europe   43   \n",
       "2    Professional         No     2        2-5 Miles   Europe   60   \n",
       "3    Professional        Yes     1       5-10 Miles  Pacific   41   \n",
       "4        Clerical         No     0        0-1 Miles   Europe   36   \n",
       "\n",
       "  Purchased Bike  \n",
       "0             No  \n",
       "1             No  \n",
       "2             No  \n",
       "3            Yes  \n",
       "4            Yes  "
      ]
     },
     "execution_count": 4,
     "metadata": {},
     "output_type": "execute_result"
    }
   ],
   "source": [
    "bikes.head()"
   ]
  },
  {
   "cell_type": "code",
   "execution_count": 5,
   "id": "a4e2e8d4-fef1-423d-97d0-fe8bcf205ff2",
   "metadata": {},
   "outputs": [],
   "source": [
    "icols = bikes.select_dtypes('integer').columns"
   ]
  },
  {
   "cell_type": "code",
   "execution_count": 6,
   "id": "1b152837-f3fc-4ef0-9d65-9080d2259cdd",
   "metadata": {},
   "outputs": [
    {
     "data": {
      "text/plain": [
       "Index(['ID', 'Income', 'Children', 'Cars', 'Age'], dtype='object')"
      ]
     },
     "execution_count": 6,
     "metadata": {},
     "output_type": "execute_result"
    }
   ],
   "source": [
    "icols"
   ]
  },
  {
   "cell_type": "code",
   "execution_count": 7,
   "id": "35e8db3e-3286-4718-88eb-ffece73d9d14",
   "metadata": {},
   "outputs": [],
   "source": [
    "bikes[icols] = bikes[icols].apply(pd.to_numeric, downcast='integer')"
   ]
  },
  {
   "cell_type": "code",
   "execution_count": 8,
   "id": "dcd3308c-655c-4af2-80b2-87e086396406",
   "metadata": {},
   "outputs": [
    {
     "name": "stdout",
     "output_type": "stream",
     "text": [
      "<class 'pandas.core.frame.DataFrame'>\n",
      "RangeIndex: 1000 entries, 0 to 999\n",
      "Data columns (total 13 columns):\n",
      " #   Column            Non-Null Count  Dtype \n",
      "---  ------            --------------  ----- \n",
      " 0   ID                1000 non-null   int16 \n",
      " 1   Marital Status    1000 non-null   object\n",
      " 2   Gender            1000 non-null   object\n",
      " 3   Income            1000 non-null   int32 \n",
      " 4   Children          1000 non-null   int8  \n",
      " 5   Education         1000 non-null   object\n",
      " 6   Occupation        1000 non-null   object\n",
      " 7   Home Owner        1000 non-null   object\n",
      " 8   Cars              1000 non-null   int8  \n",
      " 9   Commute Distance  1000 non-null   object\n",
      " 10  Region            1000 non-null   object\n",
      " 11  Age               1000 non-null   int8  \n",
      " 12  Purchased Bike    1000 non-null   object\n",
      "dtypes: int16(1), int32(1), int8(3), object(8)\n",
      "memory usage: 71.4+ KB\n"
     ]
    }
   ],
   "source": [
    "bikes.info()"
   ]
  },
  {
   "cell_type": "code",
   "execution_count": 9,
   "id": "f792b212-3f90-4e08-af83-ab59cc0f1f36",
   "metadata": {},
   "outputs": [
    {
     "data": {
      "text/plain": [
       "Education\n",
       "Bachelors              306\n",
       "Partial College        265\n",
       "High School            179\n",
       "Graduate Degree        174\n",
       "Partial High School     76\n",
       "Name: count, dtype: int64"
      ]
     },
     "execution_count": 9,
     "metadata": {},
     "output_type": "execute_result"
    }
   ],
   "source": [
    "bikes.Education.value_counts()"
   ]
  },
  {
   "cell_type": "code",
   "execution_count": 10,
   "id": "9f62af6b-7e93-4cdb-b762-1e3c1edbd7d9",
   "metadata": {},
   "outputs": [],
   "source": [
    "bikes[\"Education\"] = bikes[\"Education\"].astype(\"category\")"
   ]
  },
  {
   "cell_type": "code",
   "execution_count": 11,
   "id": "4c6e08b8-e92e-4930-a45a-5d8df4b0bbc6",
   "metadata": {},
   "outputs": [
    {
     "name": "stdout",
     "output_type": "stream",
     "text": [
      "<class 'pandas.core.frame.DataFrame'>\n",
      "RangeIndex: 1000 entries, 0 to 999\n",
      "Data columns (total 13 columns):\n",
      " #   Column            Non-Null Count  Dtype   \n",
      "---  ------            --------------  -----   \n",
      " 0   ID                1000 non-null   int16   \n",
      " 1   Marital Status    1000 non-null   object  \n",
      " 2   Gender            1000 non-null   object  \n",
      " 3   Income            1000 non-null   int32   \n",
      " 4   Children          1000 non-null   int8    \n",
      " 5   Education         1000 non-null   category\n",
      " 6   Occupation        1000 non-null   object  \n",
      " 7   Home Owner        1000 non-null   object  \n",
      " 8   Cars              1000 non-null   int8    \n",
      " 9   Commute Distance  1000 non-null   object  \n",
      " 10  Region            1000 non-null   object  \n",
      " 11  Age               1000 non-null   int8    \n",
      " 12  Purchased Bike    1000 non-null   object  \n",
      "dtypes: category(1), int16(1), int32(1), int8(3), object(7)\n",
      "memory usage: 64.8+ KB\n"
     ]
    }
   ],
   "source": [
    "bikes.info()"
   ]
  },
  {
   "cell_type": "code",
   "execution_count": 12,
   "id": "e2603b3d-7a3f-4161-a1d4-28a5bb9e3b9b",
   "metadata": {},
   "outputs": [
    {
     "data": {
      "text/html": [
       "<div>\n",
       "<style scoped>\n",
       "    .dataframe tbody tr th:only-of-type {\n",
       "        vertical-align: middle;\n",
       "    }\n",
       "\n",
       "    .dataframe tbody tr th {\n",
       "        vertical-align: top;\n",
       "    }\n",
       "\n",
       "    .dataframe thead th {\n",
       "        text-align: right;\n",
       "    }\n",
       "</style>\n",
       "<table border=\"1\" class=\"dataframe\">\n",
       "  <thead>\n",
       "    <tr style=\"text-align: right;\">\n",
       "      <th></th>\n",
       "      <th>ID</th>\n",
       "      <th>Marital Status</th>\n",
       "      <th>Gender</th>\n",
       "      <th>Income</th>\n",
       "      <th>Children</th>\n",
       "      <th>Education</th>\n",
       "      <th>Occupation</th>\n",
       "      <th>Home Owner</th>\n",
       "      <th>Cars</th>\n",
       "      <th>Commute Distance</th>\n",
       "      <th>Region</th>\n",
       "      <th>Age</th>\n",
       "      <th>Purchased Bike</th>\n",
       "    </tr>\n",
       "  </thead>\n",
       "  <tbody>\n",
       "    <tr>\n",
       "      <th>0</th>\n",
       "      <td>12496</td>\n",
       "      <td>Married</td>\n",
       "      <td>Female</td>\n",
       "      <td>40000</td>\n",
       "      <td>1</td>\n",
       "      <td>Bachelors</td>\n",
       "      <td>Skilled Manual</td>\n",
       "      <td>Yes</td>\n",
       "      <td>0</td>\n",
       "      <td>0-1 Miles</td>\n",
       "      <td>Europe</td>\n",
       "      <td>42</td>\n",
       "      <td>No</td>\n",
       "    </tr>\n",
       "    <tr>\n",
       "      <th>1</th>\n",
       "      <td>24107</td>\n",
       "      <td>Married</td>\n",
       "      <td>Male</td>\n",
       "      <td>30000</td>\n",
       "      <td>3</td>\n",
       "      <td>Partial College</td>\n",
       "      <td>Clerical</td>\n",
       "      <td>Yes</td>\n",
       "      <td>1</td>\n",
       "      <td>0-1 Miles</td>\n",
       "      <td>Europe</td>\n",
       "      <td>43</td>\n",
       "      <td>No</td>\n",
       "    </tr>\n",
       "    <tr>\n",
       "      <th>2</th>\n",
       "      <td>14177</td>\n",
       "      <td>Married</td>\n",
       "      <td>Male</td>\n",
       "      <td>80000</td>\n",
       "      <td>5</td>\n",
       "      <td>Partial College</td>\n",
       "      <td>Professional</td>\n",
       "      <td>No</td>\n",
       "      <td>2</td>\n",
       "      <td>2-5 Miles</td>\n",
       "      <td>Europe</td>\n",
       "      <td>60</td>\n",
       "      <td>No</td>\n",
       "    </tr>\n",
       "    <tr>\n",
       "      <th>3</th>\n",
       "      <td>24381</td>\n",
       "      <td>Single</td>\n",
       "      <td>Male</td>\n",
       "      <td>70000</td>\n",
       "      <td>0</td>\n",
       "      <td>Bachelors</td>\n",
       "      <td>Professional</td>\n",
       "      <td>Yes</td>\n",
       "      <td>1</td>\n",
       "      <td>5-10 Miles</td>\n",
       "      <td>Pacific</td>\n",
       "      <td>41</td>\n",
       "      <td>Yes</td>\n",
       "    </tr>\n",
       "    <tr>\n",
       "      <th>4</th>\n",
       "      <td>25597</td>\n",
       "      <td>Single</td>\n",
       "      <td>Male</td>\n",
       "      <td>30000</td>\n",
       "      <td>0</td>\n",
       "      <td>Bachelors</td>\n",
       "      <td>Clerical</td>\n",
       "      <td>No</td>\n",
       "      <td>0</td>\n",
       "      <td>0-1 Miles</td>\n",
       "      <td>Europe</td>\n",
       "      <td>36</td>\n",
       "      <td>Yes</td>\n",
       "    </tr>\n",
       "  </tbody>\n",
       "</table>\n",
       "</div>"
      ],
      "text/plain": [
       "      ID Marital Status  Gender  Income  Children        Education  \\\n",
       "0  12496        Married  Female   40000         1        Bachelors   \n",
       "1  24107        Married    Male   30000         3  Partial College   \n",
       "2  14177        Married    Male   80000         5  Partial College   \n",
       "3  24381         Single    Male   70000         0        Bachelors   \n",
       "4  25597         Single    Male   30000         0        Bachelors   \n",
       "\n",
       "       Occupation Home Owner  Cars Commute Distance   Region  Age  \\\n",
       "0  Skilled Manual        Yes     0        0-1 Miles   Europe   42   \n",
       "1        Clerical        Yes     1        0-1 Miles   Europe   43   \n",
       "2    Professional         No     2        2-5 Miles   Europe   60   \n",
       "3    Professional        Yes     1       5-10 Miles  Pacific   41   \n",
       "4        Clerical         No     0        0-1 Miles   Europe   36   \n",
       "\n",
       "  Purchased Bike  \n",
       "0             No  \n",
       "1             No  \n",
       "2             No  \n",
       "3            Yes  \n",
       "4            Yes  "
      ]
     },
     "execution_count": 12,
     "metadata": {},
     "output_type": "execute_result"
    }
   ],
   "source": [
    "bikes.head()"
   ]
  }
 ],
 "metadata": {
  "kernelspec": {
   "display_name": "Python 3 (ipykernel)",
   "language": "python",
   "name": "python3"
  },
  "language_info": {
   "codemirror_mode": {
    "name": "ipython",
    "version": 3
   },
   "file_extension": ".py",
   "mimetype": "text/x-python",
   "name": "python",
   "nbconvert_exporter": "python",
   "pygments_lexer": "ipython3",
   "version": "3.11.2"
  }
 },
 "nbformat": 4,
 "nbformat_minor": 5
}
