{
 "cells": [
  {
   "cell_type": "code",
   "execution_count": 1,
   "id": "2c29d587-4044-4c83-ad90-d09fc13bd207",
   "metadata": {},
   "outputs": [],
   "source": [
    "import pandas as pd"
   ]
  },
  {
   "cell_type": "code",
   "execution_count": 2,
   "id": "52fd4768-2411-44da-a226-afaa1d9d0dd6",
   "metadata": {},
   "outputs": [],
   "source": [
    "allianz = pd.read_excel(\"../../datasets/Allianz2_kolone.xlsx\")"
   ]
  },
  {
   "cell_type": "code",
   "execution_count": 3,
   "id": "79f783f7-64f8-45fc-9108-39e3e70fff6b",
   "metadata": {},
   "outputs": [
    {
     "name": "stdout",
     "output_type": "stream",
     "text": [
      "<class 'pandas.core.frame.DataFrame'>\n",
      "RangeIndex: 150000 entries, 0 to 149999\n",
      "Data columns (total 5 columns):\n",
      " #   Column              Non-Null Count   Dtype  \n",
      "---  ------              --------------   -----  \n",
      " 0   City                149998 non-null  object \n",
      " 1   GeNdeR_oF_CustoMer  149998 non-null  object \n",
      " 2   Age                 149998 non-null  float64\n",
      " 3   InCoMe              149998 non-null  float64\n",
      " 4   ILLness             150000 non-null  object \n",
      "dtypes: float64(2), object(3)\n",
      "memory usage: 5.7+ MB\n"
     ]
    }
   ],
   "source": [
    "allianz.info()"
   ]
  },
  {
   "cell_type": "code",
   "execution_count": 4,
   "id": "603f38e7-9803-4621-a3f5-79047dbd028a",
   "metadata": {},
   "outputs": [
    {
     "data": {
      "text/plain": [
       "Index                     132\n",
       "City                  1200000\n",
       "GeNdeR_oF_CustoMer    1200000\n",
       "Age                   1200000\n",
       "InCoMe                1200000\n",
       "ILLness               1200000\n",
       "dtype: int64"
      ]
     },
     "execution_count": 4,
     "metadata": {},
     "output_type": "execute_result"
    }
   ],
   "source": [
    "allianz.memory_usage()"
   ]
  },
  {
   "cell_type": "code",
   "execution_count": 5,
   "id": "61f0be58-a3bd-48bd-bcac-554d3ea14914",
   "metadata": {},
   "outputs": [],
   "source": [
    "allianz['Age'] = pd.to_numeric(allianz['Age'], downcast='float')"
   ]
  },
  {
   "cell_type": "code",
   "execution_count": 6,
   "id": "9bbc1c2e-f327-4603-842d-de1687718f5d",
   "metadata": {},
   "outputs": [
    {
     "name": "stdout",
     "output_type": "stream",
     "text": [
      "<class 'pandas.core.frame.DataFrame'>\n",
      "RangeIndex: 150000 entries, 0 to 149999\n",
      "Data columns (total 5 columns):\n",
      " #   Column              Non-Null Count   Dtype  \n",
      "---  ------              --------------   -----  \n",
      " 0   City                149998 non-null  object \n",
      " 1   GeNdeR_oF_CustoMer  149998 non-null  object \n",
      " 2   Age                 149998 non-null  float32\n",
      " 3   InCoMe              149998 non-null  float64\n",
      " 4   ILLness             150000 non-null  object \n",
      "dtypes: float32(1), float64(1), object(3)\n",
      "memory usage: 5.1+ MB\n"
     ]
    }
   ],
   "source": [
    "allianz.info()"
   ]
  },
  {
   "cell_type": "code",
   "execution_count": 7,
   "id": "1f1ddda6-47cb-47b6-a79b-ca314cb427e5",
   "metadata": {},
   "outputs": [],
   "source": [
    "allianz['InCoMe'] = pd.to_numeric(allianz['InCoMe'], downcast='float')"
   ]
  },
  {
   "cell_type": "code",
   "execution_count": 8,
   "id": "9df71409-5f9d-4ae0-bf20-fd344e50a59b",
   "metadata": {},
   "outputs": [
    {
     "name": "stdout",
     "output_type": "stream",
     "text": [
      "<class 'pandas.core.frame.DataFrame'>\n",
      "RangeIndex: 150000 entries, 0 to 149999\n",
      "Data columns (total 5 columns):\n",
      " #   Column              Non-Null Count   Dtype  \n",
      "---  ------              --------------   -----  \n",
      " 0   City                149998 non-null  object \n",
      " 1   GeNdeR_oF_CustoMer  149998 non-null  object \n",
      " 2   Age                 149998 non-null  float32\n",
      " 3   InCoMe              149998 non-null  float32\n",
      " 4   ILLness             150000 non-null  object \n",
      "dtypes: float32(2), object(3)\n",
      "memory usage: 4.6+ MB\n"
     ]
    }
   ],
   "source": [
    "allianz.info()"
   ]
  }
 ],
 "metadata": {
  "kernelspec": {
   "display_name": "Python 3 (ipykernel)",
   "language": "python",
   "name": "python3"
  },
  "language_info": {
   "codemirror_mode": {
    "name": "ipython",
    "version": 3
   },
   "file_extension": ".py",
   "mimetype": "text/x-python",
   "name": "python",
   "nbconvert_exporter": "python",
   "pygments_lexer": "ipython3",
   "version": "3.11.2"
  }
 },
 "nbformat": 4,
 "nbformat_minor": 5
}
