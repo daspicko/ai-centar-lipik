{
 "cells": [
  {
   "cell_type": "code",
   "execution_count": 1,
   "id": "d2c32fe9-7d0d-421b-85c3-153d586e7b0f",
   "metadata": {},
   "outputs": [],
   "source": [
    "import pandas as pd\n",
    "import matplotlib.pyplot as plt\n",
    "import seaborn as sns"
   ]
  },
  {
   "cell_type": "code",
   "execution_count": 2,
   "id": "3c093157-1be4-4495-a9ca-cc2c091a9f5d",
   "metadata": {},
   "outputs": [],
   "source": [
    "stanovi = pd.read_excel(\"stanovi_zagreb.xlsx\")"
   ]
  },
  {
   "cell_type": "code",
   "execution_count": null,
   "id": "86b818a6-8b42-45ab-9c46-c4a97c4ac77e",
   "metadata": {},
   "outputs": [],
   "source": []
  }
 ],
 "metadata": {
  "kernelspec": {
   "display_name": "Python 3 (ipykernel)",
   "language": "python",
   "name": "python3"
  },
  "language_info": {
   "codemirror_mode": {
    "name": "ipython",
    "version": 3
   },
   "file_extension": ".py",
   "mimetype": "text/x-python",
   "name": "python",
   "nbconvert_exporter": "python",
   "pygments_lexer": "ipython3",
   "version": "3.12.9"
  }
 },
 "nbformat": 4,
 "nbformat_minor": 5
}
