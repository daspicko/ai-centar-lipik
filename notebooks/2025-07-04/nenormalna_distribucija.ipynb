{
 "cells": [
  {
   "cell_type": "code",
   "execution_count": 1,
   "id": "9014ac79-d46c-4a8b-a6c4-b2476fdc7cf7",
   "metadata": {},
   "outputs": [],
   "source": [
    "import pandas as pd\n",
    "import matplotlib.pyplot as plt\n",
    "import seaborn as sns"
   ]
  },
  {
   "cell_type": "code",
   "execution_count": 2,
   "id": "304655f4-d0a5-4b83-83de-b18a623350de",
   "metadata": {},
   "outputs": [],
   "source": [
    "data = {\n",
    "    'Height': [150, 155, 160, 162, 164, 170, 175, 180, 400, 185, 190, 500, 195]\n",
    "}"
   ]
  },
  {
   "cell_type": "code",
   "execution_count": 3,
   "id": "68386e75-10e9-4ef5-96a8-7987f4faaa57",
   "metadata": {},
   "outputs": [],
   "source": [
    "sportasi = pd.DataFrame(data)"
   ]
  },
  {
   "cell_type": "code",
   "execution_count": 4,
   "id": "e6e2d857-e76a-437e-8c4e-fe29b752448e",
   "metadata": {},
   "outputs": [
    {
     "data": {
      "text/html": [
       "<div>\n",
       "<style scoped>\n",
       "    .dataframe tbody tr th:only-of-type {\n",
       "        vertical-align: middle;\n",
       "    }\n",
       "\n",
       "    .dataframe tbody tr th {\n",
       "        vertical-align: top;\n",
       "    }\n",
       "\n",
       "    .dataframe thead th {\n",
       "        text-align: right;\n",
       "    }\n",
       "</style>\n",
       "<table border=\"1\" class=\"dataframe\">\n",
       "  <thead>\n",
       "    <tr style=\"text-align: right;\">\n",
       "      <th></th>\n",
       "      <th>Height</th>\n",
       "    </tr>\n",
       "  </thead>\n",
       "  <tbody>\n",
       "    <tr>\n",
       "      <th>0</th>\n",
       "      <td>150</td>\n",
       "    </tr>\n",
       "    <tr>\n",
       "      <th>1</th>\n",
       "      <td>155</td>\n",
       "    </tr>\n",
       "    <tr>\n",
       "      <th>2</th>\n",
       "      <td>160</td>\n",
       "    </tr>\n",
       "    <tr>\n",
       "      <th>3</th>\n",
       "      <td>162</td>\n",
       "    </tr>\n",
       "    <tr>\n",
       "      <th>4</th>\n",
       "      <td>164</td>\n",
       "    </tr>\n",
       "    <tr>\n",
       "      <th>5</th>\n",
       "      <td>170</td>\n",
       "    </tr>\n",
       "    <tr>\n",
       "      <th>6</th>\n",
       "      <td>175</td>\n",
       "    </tr>\n",
       "    <tr>\n",
       "      <th>7</th>\n",
       "      <td>180</td>\n",
       "    </tr>\n",
       "    <tr>\n",
       "      <th>8</th>\n",
       "      <td>400</td>\n",
       "    </tr>\n",
       "    <tr>\n",
       "      <th>9</th>\n",
       "      <td>185</td>\n",
       "    </tr>\n",
       "    <tr>\n",
       "      <th>10</th>\n",
       "      <td>190</td>\n",
       "    </tr>\n",
       "    <tr>\n",
       "      <th>11</th>\n",
       "      <td>500</td>\n",
       "    </tr>\n",
       "    <tr>\n",
       "      <th>12</th>\n",
       "      <td>195</td>\n",
       "    </tr>\n",
       "  </tbody>\n",
       "</table>\n",
       "</div>"
      ],
      "text/plain": [
       "    Height\n",
       "0      150\n",
       "1      155\n",
       "2      160\n",
       "3      162\n",
       "4      164\n",
       "5      170\n",
       "6      175\n",
       "7      180\n",
       "8      400\n",
       "9      185\n",
       "10     190\n",
       "11     500\n",
       "12     195"
      ]
     },
     "execution_count": 4,
     "metadata": {},
     "output_type": "execute_result"
    }
   ],
   "source": [
    "sportasi"
   ]
  },
  {
   "cell_type": "code",
   "execution_count": 5,
   "id": "00a0d605-b8d7-4901-9ff4-70f1782d2a7b",
   "metadata": {},
   "outputs": [
    {
     "data": {
      "text/plain": [
       "(array([8., 3., 0., 0., 0., 0., 0., 1., 0., 1.]),\n",
       " array([150., 185., 220., 255., 290., 325., 360., 395., 430., 465., 500.]),\n",
       " <BarContainer object of 10 artists>)"
      ]
     },
     "execution_count": 5,
     "metadata": {},
     "output_type": "execute_result"
    },
    {
     "data": {
      "image/png": "[encoded data removed]",
      "text/plain": [
       "<Figure size 640x480 with 1 Axes>"
      ]
     },
     "metadata": {},
     "output_type": "display_data"
    }
   ],
   "source": [
    "plt.hist (sportasi.Height)"
   ]
  },
  {
   "cell_type": "code",
   "execution_count": 6,
   "id": "149d8053-a21b-4f26-84f2-00fdb23033d9",
   "metadata": {},
   "outputs": [
    {
     "data": {
      "text/plain": [
       "<Axes: xlabel='Height'>"
      ]
     },
     "execution_count": 6,
     "metadata": {},
     "output_type": "execute_result"
    },
    {
     "data": {
      "image/png": "[encoded data removed]",
      "text/plain": [
       "<Figure size 640x480 with 1 Axes>"
      ]
     },
     "metadata": {},
     "output_type": "display_data"
    }
   ],
   "source": [
    "sns.boxplot (x = sportasi[\"Height\"])"
   ]
  },
  {
   "cell_type": "code",
   "execution_count": 7,
   "id": "a8f40cfc-0daf-4d9a-abec-e3edc2091c93",
   "metadata": {},
   "outputs": [],
   "source": [
    "# Calculate Q1 (25th percentile) and Q3 (75th percentile)\n",
    "Q1 = sportasi['Height'].quantile(0.25)\n",
    "Q3 = sportasi['Height'].quantile(0.75)"
   ]
  },
  {
   "cell_type": "code",
   "execution_count": 8,
   "id": "3bfa4a3e-18f9-46d7-894d-53b701b76b6f",
   "metadata": {},
   "outputs": [],
   "source": [
    "IQR = Q3 - Q1"
   ]
  },
  {
   "cell_type": "code",
   "execution_count": 9,
   "id": "416d8d2e-b671-469c-9330-fdf7071c636a",
   "metadata": {},
   "outputs": [],
   "source": [
    "# Determine the bounds for outliers\n",
    "lower_bound = Q1 - 1.5 * IQR\n",
    "upper_bound = Q3 + 1.5 * IQR"
   ]
  },
  {
   "cell_type": "code",
   "execution_count": 10,
   "id": "c9e71861-1481-4ccc-b447-faa21f84fad3",
   "metadata": {},
   "outputs": [],
   "source": [
    "outliers = sportasi[(sportasi['Height'] < lower_bound) | (sportasi['Height'] > upper_bound)]['Height'].tolist()"
   ]
  }
 ],
 "metadata": {
  "kernelspec": {
   "display_name": "Python 3 (ipykernel)",
   "language": "python",
   "name": "python3"
  },
  "language_info": {
   "codemirror_mode": {
    "name": "ipython",
    "version": 3
   },
   "file_extension": ".py",
   "mimetype": "text/x-python",
   "name": "python",
   "nbconvert_exporter": "python",
   "pygments_lexer": "ipython3",
   "version": "3.12.9"
  }
 },
 "nbformat": 4,
 "nbformat_minor": 5
}
