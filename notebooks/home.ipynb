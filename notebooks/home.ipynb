{
 "cells": [
  {
   "cell_type": "markdown",
   "id": "6d20d41b-55e8-4119-b041-0a2f76423c16",
   "metadata": {},
   "source": [
    "# Dobrodošli na alat za generiranje Web stranice iz Jupyter notebooka"
   ]
  },
  {
   "cell_type": "markdown",
   "id": "b8b76670-6b60-41f4-80f7-089e7967de57",
   "metadata": {},
   "source": [
    "## O aplikaciji"
   ]
  },
  {
   "cell_type": "markdown",
   "id": "a1b0d78a-cdcb-405a-95b9-97ad277b0728",
   "metadata": {},
   "source": [
    "Aplikacija pretvara sve notebook datoteke unutar direktorija notebook u funkionalnu web stranicu sa navigacijom."
   ]
  },
  {
   "cell_type": "markdown",
   "id": "bb634eab-450e-46aa-9821-f20dc4a52aac",
   "metadata": {},
   "source": [
    "### Kako radi"
   ]
  },
  {
   "cell_type": "markdown",
   "id": "99a32093-eed1-4145-870f-67c37fb304d6",
   "metadata": {},
   "source": [
    "Upute su pisane za pokretanje Jupyter Notebooka iz komandne linije. Za pokretanje se može koristiti i Anaconda Navigator.\n",
    "\n",
    "Kreiraj virtualnog okruženje\n",
    "```bash\n",
    "conda create --name jupyter-notebook\n",
    "```\n",
    "Aktiviraj virtualno okruženje\n",
    "```bash\n",
    "conda activate jupyter-notebook\n",
    "```\n",
    "Pokreni Jupyter Notebook\n",
    "```bash\n",
    "jupiter notebook\n",
    "```"
   ]
  },
  {
   "cell_type": "markdown",
   "id": "35a32ec4-7cfa-4550-90b7-a457e94959e9",
   "metadata": {},
   "source": [
    "Kreiraj notebooks u direktoriju notebooks. Notebooks možeš organizirati u poddirektorije, koji će kasnije biti korišteni kao sekcije u navigaciji."
   ]
  },
  {
   "cell_type": "markdown",
   "id": "ab808b14-0af1-4ad5-82be-e0e70f5f54ab",
   "metadata": {},
   "source": [
    "Pokreni static site generator\n",
    "```bash\n",
    "npm run build\n",
    "```"
   ]
  },
  {
   "cell_type": "markdown",
   "id": "2ceb8822-caad-474c-8fbe-665b6943f735",
   "metadata": {},
   "source": [
    "Stranica će biti generirana u dist direktoriju. Kopiraj sadržaj direktorija u bilo koji hosting servis i uživaj u website-u."
   ]
  }
 ],
 "metadata": {
  "kernelspec": {
   "display_name": "Python 3 (ipykernel)",
   "language": "python",
   "name": "python3"
  },
  "language_info": {
   "codemirror_mode": {
    "name": "ipython",
    "version": 3
   },
   "file_extension": ".py",
   "mimetype": "text/x-python",
   "name": "python",
   "nbconvert_exporter": "python",
   "pygments_lexer": "ipython3",
   "version": "3.12.9"
  }
 },
 "nbformat": 4,
 "nbformat_minor": 5
}
